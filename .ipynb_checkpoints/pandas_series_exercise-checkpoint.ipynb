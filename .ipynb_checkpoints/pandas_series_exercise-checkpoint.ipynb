{
 "cells": [
  {
   "cell_type": "code",
   "execution_count": 1,
   "id": "69d772ac",
   "metadata": {},
   "outputs": [],
   "source": [
    "import pandas as pd\n",
    "import numpy as np"
   ]
  },
  {
   "cell_type": "code",
   "execution_count": 2,
   "id": "71e1ce68",
   "metadata": {},
   "outputs": [],
   "source": [
    "fruits = [\"kiwi\", \"mango\", \"strawberry\", \"pineapple\", \"gala apple\", \"honeycrisp apple\", \"tomato\", \n",
    "          \"watermelon\", \"honeydew\", \"kiwi\", \"kiwi\", \"kiwi\", \"mango\", \"blueberry\", \"blackberry\", \"gooseberry\", \n",
    "          \"papaya\"]\n",
    "\n",
    "fruits = pd.Series(fruits)"
   ]
  },
  {
   "cell_type": "code",
   "execution_count": 3,
   "id": "7860676a",
   "metadata": {},
   "outputs": [
    {
     "data": {
      "text/plain": [
       "0                 kiwi\n",
       "1                mango\n",
       "2           strawberry\n",
       "3            pineapple\n",
       "4           gala apple\n",
       "5     honeycrisp apple\n",
       "6               tomato\n",
       "7           watermelon\n",
       "8             honeydew\n",
       "9                 kiwi\n",
       "10                kiwi\n",
       "11                kiwi\n",
       "12               mango\n",
       "13           blueberry\n",
       "14          blackberry\n",
       "15          gooseberry\n",
       "16              papaya\n",
       "dtype: object"
      ]
     },
     "execution_count": 3,
     "metadata": {},
     "output_type": "execute_result"
    }
   ],
   "source": [
    "fruits"
   ]
  },
  {
   "cell_type": "markdown",
   "id": "e9d67939",
   "metadata": {},
   "source": [
    "Determine the number of elements in fruits.\n",
    "\n"
   ]
  },
  {
   "cell_type": "code",
   "execution_count": 4,
   "id": "99967045",
   "metadata": {},
   "outputs": [
    {
     "data": {
      "text/plain": [
       "17"
      ]
     },
     "execution_count": 4,
     "metadata": {},
     "output_type": "execute_result"
    }
   ],
   "source": [
    "fruits.count()"
   ]
  },
  {
   "cell_type": "markdown",
   "id": "cef155a3",
   "metadata": {},
   "source": [
    "Output only the index from fruits.\n",
    "\n"
   ]
  },
  {
   "cell_type": "code",
   "execution_count": 5,
   "id": "894c130c",
   "metadata": {},
   "outputs": [
    {
     "data": {
      "text/plain": [
       "[0, 1, 2, 3, 4, 5, 6, 7, 8, 9, 10, 11, 12, 13, 14, 15, 16]"
      ]
     },
     "execution_count": 5,
     "metadata": {},
     "output_type": "execute_result"
    }
   ],
   "source": [
    "list(fruits.index)"
   ]
  },
  {
   "cell_type": "markdown",
   "id": "25e4ba18",
   "metadata": {},
   "source": [
    "Output only the values from fruits.\n",
    "\n"
   ]
  },
  {
   "cell_type": "code",
   "execution_count": 6,
   "id": "d8fa8761",
   "metadata": {},
   "outputs": [
    {
     "data": {
      "text/plain": [
       "['kiwi',\n",
       " 'mango',\n",
       " 'strawberry',\n",
       " 'pineapple',\n",
       " 'gala apple',\n",
       " 'honeycrisp apple',\n",
       " 'tomato',\n",
       " 'watermelon',\n",
       " 'honeydew',\n",
       " 'kiwi',\n",
       " 'kiwi',\n",
       " 'kiwi',\n",
       " 'mango',\n",
       " 'blueberry',\n",
       " 'blackberry',\n",
       " 'gooseberry',\n",
       " 'papaya']"
      ]
     },
     "execution_count": 6,
     "metadata": {},
     "output_type": "execute_result"
    }
   ],
   "source": [
    "list(fruits.values)"
   ]
  },
  {
   "cell_type": "markdown",
   "id": "e392b4f3",
   "metadata": {},
   "source": [
    "Confirm the data type of the values in fruits.\n",
    "\n"
   ]
  },
  {
   "cell_type": "code",
   "execution_count": 8,
   "id": "673cef85",
   "metadata": {},
   "outputs": [
    {
     "data": {
      "text/plain": [
       "dtype('O')"
      ]
     },
     "execution_count": 8,
     "metadata": {},
     "output_type": "execute_result"
    }
   ],
   "source": [
    "fruits.dtypes"
   ]
  },
  {
   "cell_type": "markdown",
   "id": "96cb5ad2",
   "metadata": {},
   "source": [
    "Output only the first five values from fruits. Output the last three values. Output two random values from fruits.\n",
    "\n"
   ]
  },
  {
   "cell_type": "code",
   "execution_count": 9,
   "id": "c685bdcd",
   "metadata": {},
   "outputs": [
    {
     "data": {
      "text/plain": [
       "16      papaya\n",
       "8     honeydew\n",
       "dtype: object"
      ]
     },
     "execution_count": 9,
     "metadata": {},
     "output_type": "execute_result"
    }
   ],
   "source": [
    "fruits.head()\n",
    "fruits.tail(3)\n",
    "fruits.sample(2)"
   ]
  },
  {
   "cell_type": "markdown",
   "id": "795e710e",
   "metadata": {},
   "source": [
    "Run the .describe() on fruits to see what information it returns when called on a Series with string values.\n",
    "\n"
   ]
  },
  {
   "cell_type": "code",
   "execution_count": 10,
   "id": "8762c753",
   "metadata": {},
   "outputs": [
    {
     "data": {
      "text/plain": [
       "count       17\n",
       "unique      13\n",
       "top       kiwi\n",
       "freq         4\n",
       "dtype: object"
      ]
     },
     "execution_count": 10,
     "metadata": {},
     "output_type": "execute_result"
    }
   ],
   "source": [
    "fruits.describe()"
   ]
  },
  {
   "cell_type": "markdown",
   "id": "fd15b727",
   "metadata": {},
   "source": [
    "Run the code necessary to produce only the unique string values from fruits.\n",
    "\n"
   ]
  },
  {
   "cell_type": "code",
   "execution_count": 11,
   "id": "c0367de9",
   "metadata": {},
   "outputs": [
    {
     "data": {
      "text/plain": [
       "['kiwi',\n",
       " 'mango',\n",
       " 'strawberry',\n",
       " 'pineapple',\n",
       " 'gala apple',\n",
       " 'honeycrisp apple',\n",
       " 'tomato',\n",
       " 'watermelon',\n",
       " 'honeydew',\n",
       " 'blueberry',\n",
       " 'blackberry',\n",
       " 'gooseberry',\n",
       " 'papaya']"
      ]
     },
     "execution_count": 11,
     "metadata": {},
     "output_type": "execute_result"
    }
   ],
   "source": [
    "list(fruits.unique())"
   ]
  },
  {
   "cell_type": "markdown",
   "id": "80d94609",
   "metadata": {},
   "source": [
    "Determine how many times each unique string value occurs in fruits.\n",
    "\n"
   ]
  },
  {
   "cell_type": "code",
   "execution_count": 12,
   "id": "9dd30693",
   "metadata": {},
   "outputs": [
    {
     "data": {
      "text/plain": [
       "kiwi                4\n",
       "mango               2\n",
       "strawberry          1\n",
       "pineapple           1\n",
       "gala apple          1\n",
       "honeycrisp apple    1\n",
       "tomato              1\n",
       "watermelon          1\n",
       "honeydew            1\n",
       "blueberry           1\n",
       "blackberry          1\n",
       "gooseberry          1\n",
       "papaya              1\n",
       "dtype: int64"
      ]
     },
     "execution_count": 12,
     "metadata": {},
     "output_type": "execute_result"
    }
   ],
   "source": [
    "fruits.value_counts()"
   ]
  },
  {
   "cell_type": "markdown",
   "id": "2f96765a",
   "metadata": {},
   "source": [
    "Determine the string value that occurs most frequently in fruits.\n",
    "\n"
   ]
  },
  {
   "cell_type": "code",
   "execution_count": 13,
   "id": "9d6b8038",
   "metadata": {},
   "outputs": [
    {
     "data": {
      "text/plain": [
       "kiwi    4\n",
       "dtype: int64"
      ]
     },
     "execution_count": 13,
     "metadata": {},
     "output_type": "execute_result"
    }
   ],
   "source": [
    "fruits.value_counts().nlargest(n=1, keep='first')"
   ]
  },
  {
   "cell_type": "markdown",
   "id": "815c2c69",
   "metadata": {},
   "source": [
    "Determine the string value that occurs least frequently in fruits."
   ]
  },
  {
   "cell_type": "code",
   "execution_count": 14,
   "id": "70c6d854",
   "metadata": {},
   "outputs": [
    {
     "data": {
      "text/plain": [
       "strawberry          1\n",
       "pineapple           1\n",
       "gala apple          1\n",
       "honeycrisp apple    1\n",
       "tomato              1\n",
       "watermelon          1\n",
       "honeydew            1\n",
       "blueberry           1\n",
       "blackberry          1\n",
       "gooseberry          1\n",
       "papaya              1\n",
       "dtype: int64"
      ]
     },
     "execution_count": 14,
     "metadata": {},
     "output_type": "execute_result"
    }
   ],
   "source": [
    "fruits.value_counts().nsmallest(n=1, keep='all')"
   ]
  },
  {
   "cell_type": "markdown",
   "id": "a307a744",
   "metadata": {},
   "source": [
    "Capitalize all the string values in fruits.\n",
    "\n"
   ]
  },
  {
   "cell_type": "code",
   "execution_count": 15,
   "id": "eb40a632",
   "metadata": {},
   "outputs": [
    {
     "data": {
      "text/plain": [
       "0                 KIWI\n",
       "1                MANGO\n",
       "2           STRAWBERRY\n",
       "3            PINEAPPLE\n",
       "4           GALA APPLE\n",
       "5     HONEYCRISP APPLE\n",
       "6               TOMATO\n",
       "7           WATERMELON\n",
       "8             HONEYDEW\n",
       "9                 KIWI\n",
       "10                KIWI\n",
       "11                KIWI\n",
       "12               MANGO\n",
       "13           BLUEBERRY\n",
       "14          BLACKBERRY\n",
       "15          GOOSEBERRY\n",
       "16              PAPAYA\n",
       "dtype: object"
      ]
     },
     "execution_count": 15,
     "metadata": {},
     "output_type": "execute_result"
    }
   ],
   "source": [
    "fruits.str.upper()"
   ]
  },
  {
   "cell_type": "markdown",
   "id": "94cf33e5",
   "metadata": {},
   "source": [
    "Count the letter \"a\" in all the string values (use string vectorization).\n",
    "\n"
   ]
  },
  {
   "cell_type": "code",
   "execution_count": 36,
   "id": "53a761f5",
   "metadata": {},
   "outputs": [
    {
     "data": {
      "text/plain": [
       "kiwi                0\n",
       "mango               1\n",
       "strawberry          1\n",
       "pineapple           1\n",
       "gala apple          3\n",
       "honeycrisp apple    1\n",
       "tomato              1\n",
       "watermelon          1\n",
       "honeydew            0\n",
       "kiwi                0\n",
       "kiwi                0\n",
       "kiwi                0\n",
       "mango               1\n",
       "blueberry           0\n",
       "blackberry          1\n",
       "gooseberry          0\n",
       "papaya              3\n",
       "dtype: int64"
      ]
     },
     "execution_count": 36,
     "metadata": {},
     "output_type": "execute_result"
    }
   ],
   "source": [
    "one_fruit = ['strawberry','watermelon']\n",
    "one_fruit_series = pd.Series(one_fruit)\n",
    "type(one_fruit)\n",
    "\n",
    "\n",
    "#review\n",
    "fruits.str.count('a')\n",
    "fruits_a = fruits.str.count('a')\n",
    "fruits_a.index = list(fruits)\n",
    "fruits_a"
   ]
  },
  {
   "cell_type": "code",
   "execution_count": 17,
   "id": "1c3227d5",
   "metadata": {},
   "outputs": [
    {
     "data": {
      "text/plain": [
       "2"
      ]
     },
     "execution_count": 17,
     "metadata": {},
     "output_type": "execute_result"
    }
   ],
   "source": [
    "#overly complicated function\n",
    "\n",
    "def a_count(string_fruit):\n",
    "    counter_a = 0\n",
    "    for letter in string_fruit:\n",
    "        if 'a' in letter:\n",
    "            counter_a += 1\n",
    "    return counter_a\n",
    "\n",
    "a_count(one_fruit)"
   ]
  },
  {
   "cell_type": "code",
   "execution_count": 18,
   "id": "f08df5e1",
   "metadata": {},
   "outputs": [
    {
     "data": {
      "text/plain": [
       "0     0\n",
       "1     1\n",
       "2     1\n",
       "3     1\n",
       "4     3\n",
       "5     1\n",
       "6     1\n",
       "7     1\n",
       "8     0\n",
       "9     0\n",
       "10    0\n",
       "11    0\n",
       "12    1\n",
       "13    0\n",
       "14    1\n",
       "15    0\n",
       "16    3\n",
       "dtype: int64"
      ]
     },
     "execution_count": 18,
     "metadata": {},
     "output_type": "execute_result"
    }
   ],
   "source": [
    "# or fruits.str.count('a')\n",
    "fruits.apply(a_count)\n"
   ]
  },
  {
   "cell_type": "markdown",
   "id": "56774ce1",
   "metadata": {},
   "source": [
    "Output the number of vowels in each and every string value.\n",
    "\n"
   ]
  },
  {
   "cell_type": "code",
   "execution_count": null,
   "id": "27298b79",
   "metadata": {},
   "outputs": [],
   "source": [
    "def vowel_count(string_fruit):\n",
    "    counter_a = 0\n",
    "    for letter.lower in string_fruit:\n",
    "        if 'a' in letter:\n",
    "            counter_a += 1\n",
    "        if 'e' in letter:\n",
    "            counter_a += 1\n",
    "        if 'i' in letter:\n",
    "            counter_a += 1\n",
    "        if 'o' in letter:\n",
    "            counter_a += 1\n",
    "        if 'u' in letter:\n",
    "            counter_a += 1\n",
    "    return counter_a"
   ]
  },
  {
   "cell_type": "code",
   "execution_count": 42,
   "id": "2877e304",
   "metadata": {},
   "outputs": [
    {
     "data": {
      "text/plain": [
       "kiwi                2\n",
       "mango               2\n",
       "strawberry          2\n",
       "pineapple           4\n",
       "gala apple          4\n",
       "honeycrisp apple    5\n",
       "tomato              3\n",
       "watermelon          4\n",
       "honeydew            3\n",
       "kiwi                2\n",
       "kiwi                2\n",
       "kiwi                2\n",
       "mango               2\n",
       "blueberry           3\n",
       "blackberry          2\n",
       "gooseberry          4\n",
       "papaya              3\n",
       "dtype: int64"
      ]
     },
     "execution_count": 42,
     "metadata": {},
     "output_type": "execute_result"
    }
   ],
   "source": [
    "#modification of review\n",
    "fruit_vowels = fruits.str.count('[aeiou]')\n",
    "fruit_vowels.index = list(fruits)\n",
    "fruit_vowels"
   ]
  },
  {
   "cell_type": "code",
   "execution_count": 20,
   "id": "af5294d3",
   "metadata": {},
   "outputs": [
    {
     "data": {
      "text/plain": [
       "0     2\n",
       "1     2\n",
       "2     2\n",
       "3     4\n",
       "4     4\n",
       "5     5\n",
       "6     3\n",
       "7     4\n",
       "8     3\n",
       "9     2\n",
       "10    2\n",
       "11    2\n",
       "12    2\n",
       "13    3\n",
       "14    2\n",
       "15    4\n",
       "16    3\n",
       "dtype: int64"
      ]
     },
     "execution_count": 20,
     "metadata": {},
     "output_type": "execute_result"
    }
   ],
   "source": [
    "fruits.apply(vowel_count)"
   ]
  },
  {
   "cell_type": "markdown",
   "id": "45cd32ce",
   "metadata": {},
   "source": [
    "Write the code to get the longest string value from fruits.\n",
    "\n"
   ]
  },
  {
   "cell_type": "code",
   "execution_count": 31,
   "id": "d14996e3",
   "metadata": {},
   "outputs": [
    {
     "data": {
      "text/plain": [
       "16"
      ]
     },
     "execution_count": 31,
     "metadata": {},
     "output_type": "execute_result"
    }
   ],
   "source": [
    "fruit_lengths = fruits.str.len().max()\n",
    "fruit_lengths\n"
   ]
  },
  {
   "cell_type": "markdown",
   "id": "49cb68f4",
   "metadata": {},
   "source": [
    "Write the code to get the string values with 5 or more letters in the name.\n",
    "\n"
   ]
  },
  {
   "cell_type": "code",
   "execution_count": 46,
   "id": "2a410541",
   "metadata": {},
   "outputs": [
    {
     "data": {
      "text/plain": [
       "1                mango\n",
       "2           strawberry\n",
       "3            pineapple\n",
       "4           gala apple\n",
       "5     honeycrisp apple\n",
       "6               tomato\n",
       "7           watermelon\n",
       "8             honeydew\n",
       "12               mango\n",
       "13           blueberry\n",
       "14          blackberry\n",
       "15          gooseberry\n",
       "16              papaya\n",
       "dtype: object"
      ]
     },
     "execution_count": 46,
     "metadata": {},
     "output_type": "execute_result"
    }
   ],
   "source": [
    "fruits[fruits.str.len() >= 5]"
   ]
  },
  {
   "cell_type": "markdown",
   "id": "42356e4d",
   "metadata": {},
   "source": [
    "Find the fruit(s) containing the letter \"o\" two or more times.\n",
    "\n"
   ]
  },
  {
   "cell_type": "code",
   "execution_count": 23,
   "id": "635a09e1",
   "metadata": {},
   "outputs": [
    {
     "data": {
      "text/plain": [
       "6         tomato\n",
       "15    gooseberry\n",
       "dtype: object"
      ]
     },
     "execution_count": 23,
     "metadata": {},
     "output_type": "execute_result"
    }
   ],
   "source": [
    "fruits[fruits.str.count('o') >= 2]"
   ]
  },
  {
   "cell_type": "markdown",
   "id": "d955bfe4",
   "metadata": {},
   "source": [
    "Write the code to get only the string values containing the substring \"berry\".\n",
    "\n"
   ]
  },
  {
   "cell_type": "code",
   "execution_count": 24,
   "id": "1ff2eadc",
   "metadata": {},
   "outputs": [
    {
     "data": {
      "text/plain": [
       "2     strawberry\n",
       "13     blueberry\n",
       "14    blackberry\n",
       "15    gooseberry\n",
       "dtype: object"
      ]
     },
     "execution_count": 24,
     "metadata": {},
     "output_type": "execute_result"
    }
   ],
   "source": [
    "fruits[fruits.str.count('berry') == 1]"
   ]
  },
  {
   "cell_type": "markdown",
   "id": "c0dba385",
   "metadata": {},
   "source": [
    "Write the code to get only the string values containing the substring \"apple\".\n",
    "\n"
   ]
  },
  {
   "cell_type": "code",
   "execution_count": 25,
   "id": "baec1a11",
   "metadata": {},
   "outputs": [
    {
     "data": {
      "text/plain": [
       "3           pineapple\n",
       "4          gala apple\n",
       "5    honeycrisp apple\n",
       "dtype: object"
      ]
     },
     "execution_count": 25,
     "metadata": {},
     "output_type": "execute_result"
    }
   ],
   "source": [
    "fruits[fruits.str.count('apple') == 1]"
   ]
  },
  {
   "cell_type": "markdown",
   "id": "37c72e61",
   "metadata": {},
   "source": [
    "Which string value contains the most vowels?"
   ]
  },
  {
   "cell_type": "code",
   "execution_count": 48,
   "id": "ad649eb2",
   "metadata": {
    "scrolled": true
   },
   "outputs": [
    {
     "data": {
      "text/plain": [
       "'honeycrisp apple'"
      ]
     },
     "execution_count": 48,
     "metadata": {},
     "output_type": "execute_result"
    }
   ],
   "source": [
    "fruits[fruits.str.count('[aeiou]').max()]"
   ]
  },
  {
   "cell_type": "markdown",
   "id": "05fbca2d",
   "metadata": {},
   "source": [
    "Which letter occurs the most frequently in the letters Series?"
   ]
  },
  {
   "cell_type": "code",
   "execution_count": 7,
   "id": "cfe8bc2d",
   "metadata": {},
   "outputs": [
    {
     "data": {
      "text/plain": [
       "y    13\n",
       "dtype: int64"
      ]
     },
     "execution_count": 7,
     "metadata": {},
     "output_type": "execute_result"
    }
   ],
   "source": [
    " letters = pd.Series(list('hnvidduckkqxwymbimkccexbkmqygkxoyndmcxnwqarhyffsjpsrabtjzsypmzadfavyrnndndvswreauxovncxtwzpwejilzjrmmbbgbyxvjtewqthafnbkqplarokkyydtubbmnexoypulzwfhqvckdpqtpoppzqrmcvhhpwgjwupgzhiofohawytlsiyecuproguy'))\n",
    "letters.value_counts().head(1)\n",
    "letters.mode()\n",
    "letters.describe()\n",
    "letters.value_counts().nlargest(1)\n"
   ]
  },
  {
   "cell_type": "code",
   "execution_count": 50,
   "id": "2893ae16",
   "metadata": {
    "scrolled": true
   },
   "outputs": [
    {
     "data": {
      "text/plain": [
       "0    y\n",
       "dtype: object"
      ]
     },
     "execution_count": 50,
     "metadata": {},
     "output_type": "execute_result"
    }
   ],
   "source": [
    "letters.mode()"
   ]
  },
  {
   "cell_type": "markdown",
   "id": "74aaf57b",
   "metadata": {},
   "source": [
    "Which letter occurs the Least frequently?"
   ]
  },
  {
   "cell_type": "code",
   "execution_count": 51,
   "id": "eddd625b",
   "metadata": {},
   "outputs": [
    {
     "data": {
      "text/plain": [
       "l    4\n",
       "dtype: int64"
      ]
     },
     "execution_count": 51,
     "metadata": {},
     "output_type": "execute_result"
    }
   ],
   "source": [
    "letters.value_counts().nsmallest(1)"
   ]
  },
  {
   "cell_type": "markdown",
   "id": "fcced731",
   "metadata": {},
   "source": [
    "How many vowels are in the Series?"
   ]
  },
  {
   "cell_type": "code",
   "execution_count": 52,
   "id": "dbadaf33",
   "metadata": {},
   "outputs": [
    {
     "data": {
      "text/plain": [
       "34"
      ]
     },
     "execution_count": 52,
     "metadata": {},
     "output_type": "execute_result"
    }
   ],
   "source": [
    "letters.str.count('[aeiou]').sum()"
   ]
  },
  {
   "cell_type": "markdown",
   "id": "4db0896b",
   "metadata": {},
   "source": [
    "How many consonants are in the Series?"
   ]
  },
  {
   "cell_type": "code",
   "execution_count": 53,
   "id": "e957dcaa",
   "metadata": {
    "scrolled": true
   },
   "outputs": [
    {
     "data": {
      "text/plain": [
       "166"
      ]
     },
     "execution_count": 53,
     "metadata": {},
     "output_type": "execute_result"
    }
   ],
   "source": [
    "letters.str.count('[^aeiou]').sum()"
   ]
  },
  {
   "cell_type": "code",
   "execution_count": null,
   "id": "12db5a65",
   "metadata": {},
   "outputs": [],
   "source": []
  },
  {
   "cell_type": "markdown",
   "id": "bbf5a447",
   "metadata": {},
   "source": [
    "Create a Series that has all of the same letters but uppercased."
   ]
  },
  {
   "cell_type": "code",
   "execution_count": 54,
   "id": "5d88ba00",
   "metadata": {},
   "outputs": [
    {
     "data": {
      "text/plain": [
       "0      H\n",
       "1      N\n",
       "2      V\n",
       "3      I\n",
       "4      D\n",
       "      ..\n",
       "195    R\n",
       "196    O\n",
       "197    G\n",
       "198    U\n",
       "199    Y\n",
       "Length: 200, dtype: object"
      ]
     },
     "execution_count": 54,
     "metadata": {},
     "output_type": "execute_result"
    }
   ],
   "source": [
    "letters.str.upper()"
   ]
  },
  {
   "cell_type": "markdown",
   "id": "14b4ef22",
   "metadata": {},
   "source": [
    "Create a bar plot of the frequencies of the 6 most commonly occuring letters."
   ]
  },
  {
   "cell_type": "code",
   "execution_count": 58,
   "id": "f78f1a14",
   "metadata": {},
   "outputs": [
    {
     "data": {
      "text/plain": [
       "[Text(0.5, 0, 'Letter'),\n",
       " Text(0, 0.5, 'Frequency'),\n",
       " [<matplotlib.axis.YTick at 0x14ec62cd0>,\n",
       "  <matplotlib.axis.YTick at 0x14ecbfbe0>,\n",
       "  <matplotlib.axis.YTick at 0x16056e460>,\n",
       "  <matplotlib.axis.YTick at 0x14e3a5340>,\n",
       "  <matplotlib.axis.YTick at 0x14e3a5a90>,\n",
       "  <matplotlib.axis.YTick at 0x14ffc5220>,\n",
       "  <matplotlib.axis.YTick at 0x14ffc5910>,\n",
       "  <matplotlib.axis.YTick at 0x14ffca0a0>,\n",
       "  <matplotlib.axis.YTick at 0x14ffc5c10>,\n",
       "  <matplotlib.axis.YTick at 0x14e3a5e80>,\n",
       "  <matplotlib.axis.YTick at 0x14e39f310>,\n",
       "  <matplotlib.axis.YTick at 0x14ffcaa30>,\n",
       "  <matplotlib.axis.YTick at 0x14ffc01c0>,\n",
       "  <matplotlib.axis.YTick at 0x14ffc0910>,\n",
       "  <matplotlib.axis.YTick at 0x16056f0a0>]]"
      ]
     },
     "execution_count": 58,
     "metadata": {},
     "output_type": "execute_result"
    },
    {
     "data": {
      "image/png": "[encoded data removed]",
      "text/plain": [
       "<Figure size 640x480 with 1 Axes>"
      ]
     },
     "metadata": {},
     "output_type": "display_data"
    }
   ],
   "source": [
    "letters.value_counts().head(6).plot.bar(title = 'Letters',\n",
    "                                       rot = 0,\n",
    "                                       color = 'darkcyan',\n",
    "                                       ec = 'black',\n",
    "                                       width = .7\n",
    "                                       ).set(xlabel = 'Letter',\n",
    "                                           ylabel = 'Frequency',\n",
    "                                           yticks = (range(1, 16, 1)))"
   ]
  },
  {
   "cell_type": "markdown",
   "id": "ffc1c4bc",
   "metadata": {},
   "source": [
    "What is the data type of the numbers Series?"
   ]
  },
  {
   "cell_type": "code",
   "execution_count": 12,
   "id": "58909b48",
   "metadata": {},
   "outputs": [
    {
     "data": {
      "text/plain": [
       "dtype('O')"
      ]
     },
     "execution_count": 12,
     "metadata": {},
     "output_type": "execute_result"
    }
   ],
   "source": [
    "numbers = ['$796,459.41', '$278.60', '$482,571.67', '$4,503,915.98', '$2,121,418.3', '$1,260,813.3', '$87,231.01', '$1,509,175.45', '$4,138,548.00', '$2,848,913.80', '$594,715.39', '$4,789,988.17', '$4,513,644.5', '$3,191,059.97', '$1,758,712.24', '$4,338,283.54', '$4,738,303.38', '$2,791,759.67', '$769,681.94', '$452,650.23']\n",
    "numbers = pd.Series(numbers)\n",
    "type(numbers)\n",
    "numbers.dtype"
   ]
  },
  {
   "cell_type": "markdown",
   "id": "060d55ec",
   "metadata": {},
   "source": [
    "How many elements are in the number Series?"
   ]
  },
  {
   "cell_type": "code",
   "execution_count": 13,
   "id": "d9fbfda0",
   "metadata": {},
   "outputs": [
    {
     "data": {
      "text/plain": [
       "20"
      ]
     },
     "execution_count": 13,
     "metadata": {},
     "output_type": "execute_result"
    }
   ],
   "source": [
    "numbers.count()\n",
    "numbers.size\n",
    "numbers.shape[0]"
   ]
  },
  {
   "cell_type": "markdown",
   "id": "a257049a",
   "metadata": {},
   "source": [
    "Perform the necessary manipulations by accessing Series attributes and methods to convert the numbers Series to a numeric data type."
   ]
  },
  {
   "cell_type": "code",
   "execution_count": 14,
   "id": "b41d9e28",
   "metadata": {},
   "outputs": [
    {
     "name": "stderr",
     "output_type": "stream",
     "text": [
      "/var/folders/sg/t1npsh0d339fgq6w6l6jx3280000gn/T/ipykernel_58737/3643219464.py:1: FutureWarning: The default value of regex will change from True to False in a future version. In addition, single character regular expressions will *not* be treated as literal strings when regex=True.\n",
      "  numbers = numbers.str.replace('$', '').str.replace(',','').astype('float')\n"
     ]
    },
    {
     "data": {
      "text/plain": [
       "0      796459.41\n",
       "1         278.60\n",
       "2      482571.67\n",
       "3     4503915.98\n",
       "4     2121418.30\n",
       "5     1260813.30\n",
       "6       87231.01\n",
       "7     1509175.45\n",
       "8     4138548.00\n",
       "9     2848913.80\n",
       "10     594715.39\n",
       "11    4789988.17\n",
       "12    4513644.50\n",
       "13    3191059.97\n",
       "14    1758712.24\n",
       "15    4338283.54\n",
       "16    4738303.38\n",
       "17    2791759.67\n",
       "18     769681.94\n",
       "19     452650.23\n",
       "dtype: float64"
      ]
     },
     "execution_count": 14,
     "metadata": {},
     "output_type": "execute_result"
    }
   ],
   "source": [
    "numbers = numbers.str.replace('$', '').str.replace(',','').astype('float')\n",
    "numbers"
   ]
  },
  {
   "cell_type": "markdown",
   "id": "bf25ee39",
   "metadata": {},
   "source": [
    "Run the code to discover the maximum value from the Series."
   ]
  },
  {
   "cell_type": "code",
   "execution_count": 71,
   "id": "f2f33683",
   "metadata": {},
   "outputs": [
    {
     "data": {
      "text/plain": [
       "4789988.17"
      ]
     },
     "execution_count": 71,
     "metadata": {},
     "output_type": "execute_result"
    }
   ],
   "source": [
    "numbers.max()"
   ]
  },
  {
   "cell_type": "markdown",
   "id": "6d3bf9d2",
   "metadata": {},
   "source": [
    "Run the code to discover the minimum value from the Series."
   ]
  },
  {
   "cell_type": "code",
   "execution_count": 70,
   "id": "b30dfca2",
   "metadata": {},
   "outputs": [
    {
     "data": {
      "text/plain": [
       "278.6"
      ]
     },
     "execution_count": 70,
     "metadata": {},
     "output_type": "execute_result"
    }
   ],
   "source": [
    "numbers.min()"
   ]
  },
  {
   "cell_type": "markdown",
   "id": "49964e11",
   "metadata": {},
   "source": [
    "What is the range of the values in the Series?"
   ]
  },
  {
   "cell_type": "code",
   "execution_count": 68,
   "id": "5b5e0fa8",
   "metadata": {},
   "outputs": [
    {
     "data": {
      "text/plain": [
       "4789709.57"
      ]
     },
     "execution_count": 68,
     "metadata": {},
     "output_type": "execute_result"
    }
   ],
   "source": [
    "numbers.max()-numbers.min()"
   ]
  },
  {
   "cell_type": "markdown",
   "id": "48625414",
   "metadata": {},
   "source": [
    "Bin the data into 4 equally sized intervals or bins and output how many values fall into each bin."
   ]
  },
  {
   "cell_type": "code",
   "execution_count": 67,
   "id": "c991c384",
   "metadata": {},
   "outputs": [
    {
     "data": {
      "text/plain": [
       "(-4511.11, 1197705.993]       7\n",
       "(3592560.778, 4789988.17]     6\n",
       "(1197705.993, 2395133.385]    4\n",
       "(2395133.385, 3592560.778]    3\n",
       "dtype: int64"
      ]
     },
     "execution_count": 67,
     "metadata": {},
     "output_type": "execute_result"
    }
   ],
   "source": [
    "numbers_bin = pd.cut(numbers, 4)\n",
    "numbers_bin.value_counts()"
   ]
  },
  {
   "cell_type": "markdown",
   "id": "e8ae4f10",
   "metadata": {},
   "source": [
    "Plot the binned data in a meaningful way. Be sure to include a title and axis labels."
   ]
  },
  {
   "cell_type": "code",
   "execution_count": 72,
   "id": "2f03add7",
   "metadata": {
    "scrolled": true
   },
   "outputs": [
    {
     "data": {
      "text/plain": [
       "[Text(0.5, 0, 'Bin'),\n",
       " Text(0, 0.5, 'Total'),\n",
       " [<matplotlib.axis.YTick at 0x1606c1820>,\n",
       "  <matplotlib.axis.YTick at 0x1606c10a0>,\n",
       "  <matplotlib.axis.YTick at 0x1606897c0>,\n",
       "  <matplotlib.axis.YTick at 0x1606e9a30>,\n",
       "  <matplotlib.axis.YTick at 0x1606e27c0>,\n",
       "  <matplotlib.axis.YTick at 0x1606f0160>,\n",
       "  <matplotlib.axis.YTick at 0x1606f0820>,\n",
       "  <matplotlib.axis.YTick at 0x1606f7040>,\n",
       "  <matplotlib.axis.YTick at 0x1606f7700>]]"
      ]
     },
     "execution_count": 72,
     "metadata": {},
     "output_type": "execute_result"
    },
    {
     "data": {
      "image/png": "[encoded data removed]",
      "text/plain": [
       "<Figure size 640x480 with 1 Axes>"
      ]
     },
     "metadata": {},
     "output_type": "display_data"
    }
   ],
   "source": [
    "numbers_bin = pd.cut(numbers, 4, labels = ['Bin1', 'Bin2', 'Bin3', 'Bin4'])\n",
    "(\n",
    "    numbers_bin.value_counts().\n",
    "    loc[['Bin1', 'Bin2', 'Bin3', 'Bin4']].\n",
    "    plot.bar(title = 'Bin Count',\n",
    "            rot = 0,\n",
    "            color = 'Blue',\n",
    "            width = .7).set(xlabel = 'Bin', ylabel = 'Total',\n",
    "                           yticks = range(1,10,1)))"
   ]
  },
  {
   "cell_type": "code",
   "execution_count": 16,
   "id": "70544a32",
   "metadata": {},
   "outputs": [
    {
     "data": {
      "text/plain": [
       "20"
      ]
     },
     "execution_count": 16,
     "metadata": {},
     "output_type": "execute_result"
    }
   ],
   "source": [
    "exam_scores = pd.Series([60, 86, 75, 62, 93, 71, 60, 83, 95, 78, 65, 72, 69, 81, 96, 80, 85, 92, 82, 78])\n",
    "exam_scores.size"
   ]
  },
  {
   "cell_type": "markdown",
   "id": "f282ff44",
   "metadata": {},
   "source": [
    "How many elements are in the exam_scores Series?"
   ]
  },
  {
   "cell_type": "code",
   "execution_count": 17,
   "id": "49461bca",
   "metadata": {},
   "outputs": [
    {
     "data": {
      "text/plain": [
       "20"
      ]
     },
     "execution_count": 17,
     "metadata": {},
     "output_type": "execute_result"
    }
   ],
   "source": [
    "exam_scores.size"
   ]
  },
  {
   "cell_type": "markdown",
   "id": "d506321d",
   "metadata": {},
   "source": [
    "Run the code to discover the minimum, the maximum, the mean, and the median scores for the exam_scores Series."
   ]
  },
  {
   "cell_type": "code",
   "execution_count": 18,
   "id": "6b8d86a8",
   "metadata": {},
   "outputs": [
    {
     "data": {
      "text/plain": [
       "(96, 60, 78.15, 79.0)"
      ]
     },
     "execution_count": 18,
     "metadata": {},
     "output_type": "execute_result"
    }
   ],
   "source": [
    "(\n",
    "    exam_scores.max(),\n",
    "    exam_scores.min(),\n",
    "    exam_scores.mean(),\n",
    "    exam_scores.median()\n",
    "    )"
   ]
  },
  {
   "cell_type": "markdown",
   "id": "2414d96f",
   "metadata": {},
   "source": [
    "Plot the Series in a meaningful way and make sure your chart has a title and axis labels."
   ]
  },
  {
   "cell_type": "code",
   "execution_count": 19,
   "id": "d6203021",
   "metadata": {},
   "outputs": [
    {
     "data": {
      "text/plain": [
       "[Text(0.5, 0, 'Score'), Text(0, 0.5, 'Frequency')]"
      ]
     },
     "execution_count": 19,
     "metadata": {},
     "output_type": "execute_result"
    },
    {
     "data": {
      "image/png": "[encoded data removed]",
      "text/plain": [
       "<Figure size 640x480 with 1 Axes>"
      ]
     },
     "metadata": {},
     "output_type": "display_data"
    }
   ],
   "source": [
    "(\n",
    "    exam_scores.plot.hist(\n",
    "        title='Distribution of Exam Scores').\n",
    "    set(xlabel='Score', ylabel='Frequency')\n",
    ")"
   ]
  },
  {
   "cell_type": "markdown",
   "id": "399067a8",
   "metadata": {},
   "source": [
    "Write the code necessary to implement a curve for your exam_grades Series and save this as curved_grades. Add the necessary points to the highest grade to make it 100, and add the same number of points to every other score in the Series as well."
   ]
  },
  {
   "cell_type": "code",
   "execution_count": 81,
   "id": "c6a02875",
   "metadata": {},
   "outputs": [
    {
     "data": {
      "text/plain": [
       "4"
      ]
     },
     "execution_count": 81,
     "metadata": {},
     "output_type": "execute_result"
    }
   ],
   "source": [
    "(100- exam_scores.max())"
   ]
  },
  {
   "cell_type": "code",
   "execution_count": 21,
   "id": "85806f93",
   "metadata": {},
   "outputs": [
    {
     "data": {
      "text/plain": [
       "0      64\n",
       "1      90\n",
       "2      79\n",
       "3      66\n",
       "4      97\n",
       "5      75\n",
       "6      64\n",
       "7      87\n",
       "8      99\n",
       "9      82\n",
       "10     69\n",
       "11     76\n",
       "12     73\n",
       "13     85\n",
       "14    100\n",
       "15     84\n",
       "16     89\n",
       "17     96\n",
       "18     86\n",
       "19     82\n",
       "dtype: int64"
      ]
     },
     "execution_count": 21,
     "metadata": {},
     "output_type": "execute_result"
    }
   ],
   "source": [
    "curved_grades = exam_scores + (100 - exam_scores.max())\n",
    "curved_grades"
   ]
  },
  {
   "cell_type": "markdown",
   "id": "72c769e3",
   "metadata": {},
   "source": [
    "Use a method to convert each of the numeric values in the curved_grades Series into a categorical value of letter grades. For example, 86 should be a 'B' and 95 should be an 'A'. Save this as a Series named letter_grades."
   ]
  },
  {
   "cell_type": "code",
   "execution_count": 23,
   "id": "bff0ca1b",
   "metadata": {},
   "outputs": [
    {
     "data": {
      "text/plain": [
       "0     D\n",
       "1     A\n",
       "2     C\n",
       "3     D\n",
       "4     A\n",
       "5     C\n",
       "6     D\n",
       "7     B\n",
       "8     A\n",
       "9     B\n",
       "10    D\n",
       "11    C\n",
       "12    C\n",
       "13    B\n",
       "14    A\n",
       "15    B\n",
       "16    B\n",
       "17    A\n",
       "18    B\n",
       "19    B\n",
       "dtype: category\n",
       "Categories (5, object): ['F' < 'D' < 'C' < 'B' < 'A']"
      ]
     },
     "execution_count": 23,
     "metadata": {},
     "output_type": "execute_result"
    }
   ],
   "source": [
    "bin_edges = [0, 59, 69, 79, 89, 100]\n",
    "bin_labels = ['F', 'D', 'C', 'B','A']\n",
    "letter_grades = pd.cut(curved_grades, bins=bin_edges, labels=bin_labels)\n",
    "\n",
    "letter_grades"
   ]
  },
  {
   "cell_type": "markdown",
   "id": "c0feadfe",
   "metadata": {},
   "source": [
    "Plot your new categorical letter_grades Series in a meaninful way and include a title and axis labels."
   ]
  },
  {
   "cell_type": "code",
   "execution_count": 24,
   "id": "72642b54",
   "metadata": {},
   "outputs": [
    {
     "data": {
      "text/plain": [
       "[Text(0.5, 0, 'Letter Grade'), Text(0, 0.5, 'Frequency')]"
      ]
     },
     "execution_count": 24,
     "metadata": {},
     "output_type": "execute_result"
    },
    {
     "data": {
      "image/png": "[encoded data removed]",
      "text/plain": [
       "<Figure size 640x480 with 1 Axes>"
      ]
     },
     "metadata": {},
     "output_type": "display_data"
    }
   ],
   "source": [
    "(\n",
    "letter_grades.value_counts().sort_index(ascending=False).\n",
    "plot.bar(title = 'Curved Letter Grade Distribution').\n",
    "set(xlabel = 'Letter Grade', ylabel = 'Frequency')\n",
    ")"
   ]
  },
  {
   "cell_type": "code",
   "execution_count": null,
   "id": "462f7825",
   "metadata": {},
   "outputs": [],
   "source": []
  }
 ],
 "metadata": {
  "kernelspec": {
   "display_name": "Python 3 (ipykernel)",
   "language": "python",
   "name": "python3"
  },
  "language_info": {
   "codemirror_mode": {
    "name": "ipython",
    "version": 3
   },
   "file_extension": ".py",
   "mimetype": "text/x-python",
   "name": "python",
   "nbconvert_exporter": "python",
   "pygments_lexer": "ipython3",
   "version": "3.9.13"
  }
 },
 "nbformat": 4,
 "nbformat_minor": 5
}
