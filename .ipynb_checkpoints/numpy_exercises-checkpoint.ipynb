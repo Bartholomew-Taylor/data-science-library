{
 "cells": [
  {
   "cell_type": "code",
   "execution_count": 20,
   "id": "71eba28d",
   "metadata": {},
   "outputs": [],
   "source": [
    "import numpy as np\n",
    "\n",
    "a = np.array([4, 10, 12, 23, -2, -1, 0, 0, 0, -6, 3, -7])\n"
   ]
  },
  {
   "cell_type": "markdown",
   "id": "c6ec65c1",
   "metadata": {},
   "source": [
    "How many negative numbers are there?\n",
    "\n"
   ]
  },
  {
   "cell_type": "code",
   "execution_count": 5,
   "id": "a24577ea",
   "metadata": {},
   "outputs": [
    {
     "data": {
      "text/plain": [
       "4"
      ]
     },
     "execution_count": 5,
     "metadata": {},
     "output_type": "execute_result"
    }
   ],
   "source": [
    "len(a[a < 0])"
   ]
  },
  {
   "cell_type": "markdown",
   "id": "45fb0848",
   "metadata": {},
   "source": [
    "How many positive numbers are there?\n",
    "\n"
   ]
  },
  {
   "cell_type": "code",
   "execution_count": 6,
   "id": "34c263bd",
   "metadata": {},
   "outputs": [
    {
     "data": {
      "text/plain": [
       "5"
      ]
     },
     "execution_count": 6,
     "metadata": {},
     "output_type": "execute_result"
    }
   ],
   "source": [
    "len(a[a>0])"
   ]
  },
  {
   "cell_type": "markdown",
   "id": "e62d16d8",
   "metadata": {},
   "source": [
    "How many even positive numbers are there?\n",
    "\n"
   ]
  },
  {
   "cell_type": "code",
   "execution_count": 9,
   "id": "9e9e7c7b",
   "metadata": {},
   "outputs": [
    {
     "data": {
      "text/plain": [
       "3"
      ]
     },
     "execution_count": 9,
     "metadata": {},
     "output_type": "execute_result"
    }
   ],
   "source": [
    "len(a[(a>0) & (a%2 == 0)])"
   ]
  },
  {
   "cell_type": "markdown",
   "id": "a2c8d52b",
   "metadata": {},
   "source": [
    "If you were to add 3 to each data point, how many positive numbers would there be?\n",
    "\n"
   ]
  },
  {
   "cell_type": "code",
   "execution_count": 21,
   "id": "bd28c889",
   "metadata": {},
   "outputs": [
    {
     "name": "stdout",
     "output_type": "stream",
     "text": [
      "[ 7 13 15 26  1  2  3  3  3 -3  6 -4]\n"
     ]
    },
    {
     "data": {
      "text/plain": [
       "10"
      ]
     },
     "execution_count": 21,
     "metadata": {},
     "output_type": "execute_result"
    }
   ],
   "source": [
    "a = a + 3\n",
    "print(a)\n",
    "len(a[a>0])"
   ]
  },
  {
   "cell_type": "markdown",
   "id": "08042632",
   "metadata": {},
   "source": [
    "If you squared each number, what would the new mean and standard deviation be?\n",
    "\n"
   ]
  },
  {
   "cell_type": "code",
   "execution_count": 28,
   "id": "7844f900",
   "metadata": {},
   "outputs": [],
   "source": [
    "a = a **2\n"
   ]
  },
  {
   "cell_type": "code",
   "execution_count": 29,
   "id": "524604ae",
   "metadata": {},
   "outputs": [
    {
     "name": "stdout",
     "output_type": "stream",
     "text": [
      "101.0\n"
     ]
    },
    {
     "data": {
      "text/plain": [
       "186.64672512530188"
      ]
     },
     "execution_count": 29,
     "metadata": {},
     "output_type": "execute_result"
    }
   ],
   "source": [
    "print(a.mean())\n",
    "np.std(a)"
   ]
  },
  {
   "cell_type": "code",
   "execution_count": 30,
   "id": "e7066adf",
   "metadata": {},
   "outputs": [
    {
     "data": {
      "text/plain": [
       "array([ 49, 169, 225, 676,   1,   4,   9,   9,   9,   9,  36,  16])"
      ]
     },
     "execution_count": 30,
     "metadata": {},
     "output_type": "execute_result"
    }
   ],
   "source": [
    "a"
   ]
  },
  {
   "cell_type": "markdown",
   "id": "77254820",
   "metadata": {},
   "source": [
    "A common statistical operation on a dataset is centering. This means to adjust the data such that the mean of the data is 0. This is done by subtracting the mean from each data point. Center the data set. See this link for more on centering.\n",
    "\n",
    "Calculate the z-score for each data point. Recall that the z-score is given by:"
   ]
  },
  {
   "cell_type": "code",
   "execution_count": 39,
   "id": "c0c90d77",
   "metadata": {},
   "outputs": [
    {
     "data": {
      "text/plain": [
       "array([-0.27860119,  0.36432463,  0.66435669,  3.08068625, -0.53577152,\n",
       "       -0.51969838, -0.4929098 , -0.4929098 , -0.4929098 , -0.4929098 ,\n",
       "       -0.34825149, -0.45540579])"
      ]
     },
     "execution_count": 39,
     "metadata": {},
     "output_type": "execute_result"
    }
   ],
   "source": [
    "aplus = a - a.mean()\n",
    "za = (aplus - aplus.mean())/np.std(aplus)\n",
    "za"
   ]
  },
  {
   "cell_type": "code",
   "execution_count": 50,
   "id": "83a6a465",
   "metadata": {},
   "outputs": [],
   "source": [
    "# Setup 1\n",
    "a = np.array([1, 2, 3, 4, 5, 6, 7, 8, 9, 10])\n"
   ]
  },
  {
   "cell_type": "markdown",
   "id": "432c9fdf",
   "metadata": {},
   "source": [
    "\n",
    "\n",
    " Use python's built in functionality/operators to determine the following:\n",
    " \n",
    " Exercise 1 - Make a variable called sum_of_a to hold the sum of all the numbers in above list\n",
    "\n"
   ]
  },
  {
   "cell_type": "code",
   "execution_count": 51,
   "id": "13630a13",
   "metadata": {},
   "outputs": [
    {
     "data": {
      "text/plain": [
       "55"
      ]
     },
     "execution_count": 51,
     "metadata": {},
     "output_type": "execute_result"
    }
   ],
   "source": [
    "sum_of_a = np.sum(a)\n",
    "sum_of_a"
   ]
  },
  {
   "cell_type": "markdown",
   "id": "8f13aad6",
   "metadata": {},
   "source": [
    " exercise 2 - Make a variable named min_of_a to hold the minimum of all the numbers in the above list\n",
    "\n"
   ]
  },
  {
   "cell_type": "code",
   "execution_count": 52,
   "id": "2f75f909",
   "metadata": {},
   "outputs": [
    {
     "data": {
      "text/plain": [
       "1"
      ]
     },
     "execution_count": 52,
     "metadata": {},
     "output_type": "execute_result"
    }
   ],
   "source": [
    "min_of_a = np.min(a)\n",
    "min_of_a"
   ]
  },
  {
   "cell_type": "markdown",
   "id": "1e0db696",
   "metadata": {},
   "source": [
    " Exercise 3 - Make a variable named max_of_a to hold the max number of all the numbers in the above list\n",
    "\n",
    " "
   ]
  },
  {
   "cell_type": "code",
   "execution_count": 53,
   "id": "cb76300f",
   "metadata": {},
   "outputs": [
    {
     "data": {
      "text/plain": [
       "10"
      ]
     },
     "execution_count": 53,
     "metadata": {},
     "output_type": "execute_result"
    }
   ],
   "source": [
    "max_of_a = np.max(a)\n",
    "max_of_a"
   ]
  },
  {
   "cell_type": "markdown",
   "id": "48915ff1",
   "metadata": {},
   "source": [
    "Exercise 4 - Make a variable named mean_of_a to hold the average of all the numbers in the above list\n",
    "\n"
   ]
  },
  {
   "cell_type": "code",
   "execution_count": 54,
   "id": "c2f5eff6",
   "metadata": {},
   "outputs": [
    {
     "data": {
      "text/plain": [
       "5.5"
      ]
     },
     "execution_count": 54,
     "metadata": {},
     "output_type": "execute_result"
    }
   ],
   "source": [
    "mean_of_a = np.mean(a)\n",
    "mean_of_a"
   ]
  },
  {
   "cell_type": "markdown",
   "id": "dcfba79c",
   "metadata": {},
   "source": [
    " Exercise 5 - Make a variable named product_of_a to hold the product of multiplying all the numbers in the above list together\n",
    "\n"
   ]
  },
  {
   "cell_type": "code",
   "execution_count": 55,
   "id": "4a9fade6",
   "metadata": {},
   "outputs": [
    {
     "data": {
      "text/plain": [
       "3628800"
      ]
     },
     "execution_count": 55,
     "metadata": {},
     "output_type": "execute_result"
    }
   ],
   "source": [
    "product_of_a = np.product(a)\n",
    "product_of_a"
   ]
  },
  {
   "cell_type": "markdown",
   "id": "38261903",
   "metadata": {},
   "source": [
    " Exercise 6 - Make a variable named squares_of_a. It should hold each number in a squared like [1, 4, 9, 16, 25...]\n",
    "\n"
   ]
  },
  {
   "cell_type": "code",
   "execution_count": 57,
   "id": "0be3204a",
   "metadata": {},
   "outputs": [
    {
     "data": {
      "text/plain": [
       "array([  1,   4,   9,  16,  25,  36,  49,  64,  81, 100])"
      ]
     },
     "execution_count": 57,
     "metadata": {},
     "output_type": "execute_result"
    }
   ],
   "source": [
    "squares_of_a = a ** 2\n",
    "squares_of_a"
   ]
  },
  {
   "cell_type": "markdown",
   "id": "57dbecdb",
   "metadata": {},
   "source": [
    " Exercise 7 - Make a variable named odds_in_a. It should hold only the odd numbers\n",
    "\n"
   ]
  },
  {
   "cell_type": "code",
   "execution_count": 58,
   "id": "712f712d",
   "metadata": {},
   "outputs": [
    {
     "data": {
      "text/plain": [
       "array([1, 3, 5, 7, 9])"
      ]
     },
     "execution_count": 58,
     "metadata": {},
     "output_type": "execute_result"
    }
   ],
   "source": [
    "odds_in_a = a[a%2 == 1]\n",
    "odds_in_a"
   ]
  },
  {
   "cell_type": "markdown",
   "id": "9da276b7",
   "metadata": {},
   "source": [
    " Exercise 8 - Make a variable named evens_in_a. It should hold only the evens."
   ]
  },
  {
   "cell_type": "code",
   "execution_count": 60,
   "id": "fe647e1c",
   "metadata": {},
   "outputs": [
    {
     "data": {
      "text/plain": [
       "array([ 2,  4,  6,  8, 10])"
      ]
     },
     "execution_count": 60,
     "metadata": {},
     "output_type": "execute_result"
    }
   ],
   "source": [
    "evens_in_a = a[a%2 == 0]\n",
    "evens_in_a"
   ]
  },
  {
   "cell_type": "code",
   "execution_count": 61,
   "id": "cfb2a3cc",
   "metadata": {},
   "outputs": [],
   "source": [
    "# Setup 2: Consider what it would take to find the sum, min, max, \n",
    "# average, sum, product, and list of squares for this list of two lists.\n",
    "b = [\n",
    "    [3, 4, 5],\n",
    "    [6, 7, 8]\n",
    "]"
   ]
  },
  {
   "cell_type": "markdown",
   "id": "4b3d5f1c",
   "metadata": {},
   "source": [
    " Exercise 1 - refactor the following to use numpy. Use sum_of_b as the variable. **Hint, you'll first need to make sure that the \"b\" variable is a numpy array**\n",
    "\n",
    "\n"
   ]
  },
  {
   "cell_type": "code",
   "execution_count": 65,
   "id": "7cfee77d",
   "metadata": {},
   "outputs": [
    {
     "data": {
      "text/plain": [
       "33"
      ]
     },
     "execution_count": 65,
     "metadata": {},
     "output_type": "execute_result"
    }
   ],
   "source": [
    "sum_of_b = np.sum(b)\n",
    "sum_of_b"
   ]
  },
  {
   "cell_type": "markdown",
   "id": "28738cbd",
   "metadata": {},
   "source": [
    "Exercise 2 - refactor the following to use numpy. \n"
   ]
  },
  {
   "cell_type": "code",
   "execution_count": 67,
   "id": "b1efbcf1",
   "metadata": {},
   "outputs": [
    {
     "data": {
      "text/plain": [
       "3"
      ]
     },
     "execution_count": 67,
     "metadata": {},
     "output_type": "execute_result"
    }
   ],
   "source": [
    "min_of_b = np.min(b)\n",
    "min_of_b"
   ]
  },
  {
   "cell_type": "markdown",
   "id": "e48e9d7d",
   "metadata": {},
   "source": [
    "Exercise 3 - refactor the following maximum calculation to find the answer with numpy.\n"
   ]
  },
  {
   "cell_type": "code",
   "execution_count": 70,
   "id": "6446d6eb",
   "metadata": {},
   "outputs": [
    {
     "data": {
      "text/plain": [
       "8"
      ]
     },
     "execution_count": 70,
     "metadata": {},
     "output_type": "execute_result"
    }
   ],
   "source": [
    "max_of_b = np.max(b)\n",
    "max_of_b"
   ]
  },
  {
   "cell_type": "markdown",
   "id": "6ac27ecc",
   "metadata": {},
   "source": [
    "Exercise 4 - refactor the following using numpy to find the mean of b\n",
    "\n",
    "\n"
   ]
  },
  {
   "cell_type": "code",
   "execution_count": 72,
   "id": "add36040",
   "metadata": {},
   "outputs": [
    {
     "data": {
      "text/plain": [
       "5.5"
      ]
     },
     "execution_count": 72,
     "metadata": {},
     "output_type": "execute_result"
    }
   ],
   "source": [
    "mean_of_b = np.mean(b)\n",
    "mean_of_b"
   ]
  },
  {
   "cell_type": "markdown",
   "id": "0152e4d8",
   "metadata": {},
   "source": [
    "Exercise 5 - refactor the following to use numpy for calculating the product of all numbers multiplied together.\n",
    "\n",
    "\n"
   ]
  },
  {
   "cell_type": "code",
   "execution_count": 74,
   "id": "8dc84dbe",
   "metadata": {},
   "outputs": [
    {
     "data": {
      "text/plain": [
       "20160"
      ]
     },
     "execution_count": 74,
     "metadata": {},
     "output_type": "execute_result"
    }
   ],
   "source": [
    "product_of_b = np.product(b)\n",
    "product_of_b"
   ]
  },
  {
   "cell_type": "markdown",
   "id": "6a756283",
   "metadata": {},
   "source": [
    " Exercise 6 - refactor the following to use numpy to find the list of squares \n",
    "\n",
    "\n",
    "\n"
   ]
  },
  {
   "cell_type": "code",
   "execution_count": 76,
   "id": "4baa1c08",
   "metadata": {},
   "outputs": [
    {
     "data": {
      "text/plain": [
       "array([  1,   4,   9,  16,  25,  36,  49,  64,  81, 100])"
      ]
     },
     "execution_count": 76,
     "metadata": {},
     "output_type": "execute_result"
    }
   ],
   "source": [
    "squares_of_b = a ** 2\n",
    "squares_of_b"
   ]
  },
  {
   "cell_type": "markdown",
   "id": "17fb37f5",
   "metadata": {},
   "source": [
    " Exercise 7 - refactor using numpy to determine the odds_in_b\n",
    "\n",
    "\n",
    "\n"
   ]
  },
  {
   "cell_type": "code",
   "execution_count": 77,
   "id": "30502fc6",
   "metadata": {},
   "outputs": [
    {
     "data": {
      "text/plain": [
       "array([1, 3, 5, 7, 9])"
      ]
     },
     "execution_count": 77,
     "metadata": {},
     "output_type": "execute_result"
    }
   ],
   "source": [
    "odds_in_b = a[a%2==1]\n",
    "odds_in_b"
   ]
  },
  {
   "cell_type": "markdown",
   "id": "6fd5598c",
   "metadata": {},
   "source": [
    " Exercise 8 - refactor the following to use numpy to filter only the even numbers\n",
    "\n",
    "\n"
   ]
  },
  {
   "cell_type": "code",
   "execution_count": 78,
   "id": "d0fa9aa0",
   "metadata": {},
   "outputs": [
    {
     "data": {
      "text/plain": [
       "array([ 2,  4,  6,  8, 10])"
      ]
     },
     "execution_count": 78,
     "metadata": {},
     "output_type": "execute_result"
    }
   ],
   "source": [
    "evens_in_b = a[a%2==0]\n",
    "evens_in_b"
   ]
  },
  {
   "cell_type": "markdown",
   "id": "3fff7086",
   "metadata": {},
   "source": [
    " Exercise 9 - print out the shape of the array b.\n",
    "\n"
   ]
  },
  {
   "cell_type": "code",
   "execution_count": 82,
   "id": "9b226aea",
   "metadata": {},
   "outputs": [
    {
     "data": {
      "text/plain": [
       "(10,)"
      ]
     },
     "execution_count": 82,
     "metadata": {},
     "output_type": "execute_result"
    }
   ],
   "source": [
    "np.shape(a)"
   ]
  },
  {
   "cell_type": "markdown",
   "id": "36a3d0af",
   "metadata": {},
   "source": [
    " Exercise 10 - transpose the array b.\n",
    "\n"
   ]
  },
  {
   "cell_type": "code",
   "execution_count": 83,
   "id": "c40aa7f0",
   "metadata": {},
   "outputs": [
    {
     "data": {
      "text/plain": [
       "array([[3, 6],\n",
       "       [4, 7],\n",
       "       [5, 8]])"
      ]
     },
     "execution_count": 83,
     "metadata": {},
     "output_type": "execute_result"
    }
   ],
   "source": [
    "np.transpose(b)"
   ]
  },
  {
   "cell_type": "markdown",
   "id": "b25634bd",
   "metadata": {},
   "source": [
    " Exercise 11 - reshape the array b to be a single list of 6 numbers. (1 x 6)\n",
    "\n"
   ]
  },
  {
   "cell_type": "code",
   "execution_count": 84,
   "id": "a49f87b2",
   "metadata": {},
   "outputs": [
    {
     "data": {
      "text/plain": [
       "array([3, 4, 5, 6, 7, 8])"
      ]
     },
     "execution_count": 84,
     "metadata": {},
     "output_type": "execute_result"
    }
   ],
   "source": [
    "np.reshape(b, 6)"
   ]
  },
  {
   "cell_type": "markdown",
   "id": "5ddb4b78",
   "metadata": {},
   "source": [
    " Exercise 12 - reshape the array b to be a list of 6 lists, each containing only 1 number (6 x 1)"
   ]
  },
  {
   "cell_type": "code",
   "execution_count": 86,
   "id": "7374d351",
   "metadata": {},
   "outputs": [
    {
     "ename": "ValueError",
     "evalue": "cannot reshape array of size 6 into shape (0,)",
     "output_type": "error",
     "traceback": [
      "\u001b[0;31m---------------------------------------------------------------------------\u001b[0m",
      "\u001b[0;31mValueError\u001b[0m                                Traceback (most recent call last)",
      "Input \u001b[0;32mIn [86]\u001b[0m, in \u001b[0;36m<cell line: 1>\u001b[0;34m()\u001b[0m\n\u001b[0;32m----> 1\u001b[0m \u001b[43mnp\u001b[49m\u001b[38;5;241;43m.\u001b[39;49m\u001b[43mreshape\u001b[49m\u001b[43m(\u001b[49m\u001b[43mb\u001b[49m\u001b[43m,\u001b[49m\u001b[43m \u001b[49m\u001b[38;5;241;43m0\u001b[39;49m\u001b[43m)\u001b[49m\n",
      "File \u001b[0;32m<__array_function__ internals>:5\u001b[0m, in \u001b[0;36mreshape\u001b[0;34m(*args, **kwargs)\u001b[0m\n",
      "File \u001b[0;32m/opt/homebrew/anaconda3/lib/python3.9/site-packages/numpy/core/fromnumeric.py:298\u001b[0m, in \u001b[0;36mreshape\u001b[0;34m(a, newshape, order)\u001b[0m\n\u001b[1;32m    198\u001b[0m \u001b[38;5;129m@array_function_dispatch\u001b[39m(_reshape_dispatcher)\n\u001b[1;32m    199\u001b[0m \u001b[38;5;28;01mdef\u001b[39;00m \u001b[38;5;21mreshape\u001b[39m(a, newshape, order\u001b[38;5;241m=\u001b[39m\u001b[38;5;124m'\u001b[39m\u001b[38;5;124mC\u001b[39m\u001b[38;5;124m'\u001b[39m):\n\u001b[1;32m    200\u001b[0m     \u001b[38;5;124;03m\"\"\"\u001b[39;00m\n\u001b[1;32m    201\u001b[0m \u001b[38;5;124;03m    Gives a new shape to an array without changing its data.\u001b[39;00m\n\u001b[1;32m    202\u001b[0m \n\u001b[0;32m   (...)\u001b[0m\n\u001b[1;32m    296\u001b[0m \u001b[38;5;124;03m           [5, 6]])\u001b[39;00m\n\u001b[1;32m    297\u001b[0m \u001b[38;5;124;03m    \"\"\"\u001b[39;00m\n\u001b[0;32m--> 298\u001b[0m     \u001b[38;5;28;01mreturn\u001b[39;00m \u001b[43m_wrapfunc\u001b[49m\u001b[43m(\u001b[49m\u001b[43ma\u001b[49m\u001b[43m,\u001b[49m\u001b[43m \u001b[49m\u001b[38;5;124;43m'\u001b[39;49m\u001b[38;5;124;43mreshape\u001b[39;49m\u001b[38;5;124;43m'\u001b[39;49m\u001b[43m,\u001b[49m\u001b[43m \u001b[49m\u001b[43mnewshape\u001b[49m\u001b[43m,\u001b[49m\u001b[43m \u001b[49m\u001b[43morder\u001b[49m\u001b[38;5;241;43m=\u001b[39;49m\u001b[43morder\u001b[49m\u001b[43m)\u001b[49m\n",
      "File \u001b[0;32m/opt/homebrew/anaconda3/lib/python3.9/site-packages/numpy/core/fromnumeric.py:54\u001b[0m, in \u001b[0;36m_wrapfunc\u001b[0;34m(obj, method, *args, **kwds)\u001b[0m\n\u001b[1;32m     52\u001b[0m bound \u001b[38;5;241m=\u001b[39m \u001b[38;5;28mgetattr\u001b[39m(obj, method, \u001b[38;5;28;01mNone\u001b[39;00m)\n\u001b[1;32m     53\u001b[0m \u001b[38;5;28;01mif\u001b[39;00m bound \u001b[38;5;129;01mis\u001b[39;00m \u001b[38;5;28;01mNone\u001b[39;00m:\n\u001b[0;32m---> 54\u001b[0m     \u001b[38;5;28;01mreturn\u001b[39;00m \u001b[43m_wrapit\u001b[49m\u001b[43m(\u001b[49m\u001b[43mobj\u001b[49m\u001b[43m,\u001b[49m\u001b[43m \u001b[49m\u001b[43mmethod\u001b[49m\u001b[43m,\u001b[49m\u001b[43m \u001b[49m\u001b[38;5;241;43m*\u001b[39;49m\u001b[43margs\u001b[49m\u001b[43m,\u001b[49m\u001b[43m \u001b[49m\u001b[38;5;241;43m*\u001b[39;49m\u001b[38;5;241;43m*\u001b[39;49m\u001b[43mkwds\u001b[49m\u001b[43m)\u001b[49m\n\u001b[1;32m     56\u001b[0m \u001b[38;5;28;01mtry\u001b[39;00m:\n\u001b[1;32m     57\u001b[0m     \u001b[38;5;28;01mreturn\u001b[39;00m bound(\u001b[38;5;241m*\u001b[39margs, \u001b[38;5;241m*\u001b[39m\u001b[38;5;241m*\u001b[39mkwds)\n",
      "File \u001b[0;32m/opt/homebrew/anaconda3/lib/python3.9/site-packages/numpy/core/fromnumeric.py:43\u001b[0m, in \u001b[0;36m_wrapit\u001b[0;34m(obj, method, *args, **kwds)\u001b[0m\n\u001b[1;32m     41\u001b[0m \u001b[38;5;28;01mexcept\u001b[39;00m \u001b[38;5;167;01mAttributeError\u001b[39;00m:\n\u001b[1;32m     42\u001b[0m     wrap \u001b[38;5;241m=\u001b[39m \u001b[38;5;28;01mNone\u001b[39;00m\n\u001b[0;32m---> 43\u001b[0m result \u001b[38;5;241m=\u001b[39m \u001b[38;5;28;43mgetattr\u001b[39;49m\u001b[43m(\u001b[49m\u001b[43masarray\u001b[49m\u001b[43m(\u001b[49m\u001b[43mobj\u001b[49m\u001b[43m)\u001b[49m\u001b[43m,\u001b[49m\u001b[43m \u001b[49m\u001b[43mmethod\u001b[49m\u001b[43m)\u001b[49m\u001b[43m(\u001b[49m\u001b[38;5;241;43m*\u001b[39;49m\u001b[43margs\u001b[49m\u001b[43m,\u001b[49m\u001b[43m \u001b[49m\u001b[38;5;241;43m*\u001b[39;49m\u001b[38;5;241;43m*\u001b[39;49m\u001b[43mkwds\u001b[49m\u001b[43m)\u001b[49m\n\u001b[1;32m     44\u001b[0m \u001b[38;5;28;01mif\u001b[39;00m wrap:\n\u001b[1;32m     45\u001b[0m     \u001b[38;5;28;01mif\u001b[39;00m \u001b[38;5;129;01mnot\u001b[39;00m \u001b[38;5;28misinstance\u001b[39m(result, mu\u001b[38;5;241m.\u001b[39mndarray):\n",
      "\u001b[0;31mValueError\u001b[0m: cannot reshape array of size 6 into shape (0,)"
     ]
    }
   ],
   "source": [
    "np.reshape(b, )"
   ]
  },
  {
   "cell_type": "code",
   "execution_count": null,
   "id": "7fc36199",
   "metadata": {},
   "outputs": [],
   "source": [
    "#Setup 3\n",
    "c = [\n",
    "    [1, 2, 3],\n",
    "    [4, 5, 6],\n",
    "    [7, 8, 9]\n",
    "]"
   ]
  },
  {
   "cell_type": "markdown",
   "id": "11f15710",
   "metadata": {},
   "source": [
    "\n",
    "\n",
    "\n",
    " HINT, you'll first need to make sure that the \"c\" variable is a numpy array prior to using numpy array methods.\n",
    " \n",
    " Exercise 1 - Find the min, max, sum, and product of c.\n",
    "\n"
   ]
  },
  {
   "cell_type": "code",
   "execution_count": null,
   "id": "20e60c29",
   "metadata": {},
   "outputs": [],
   "source": []
  },
  {
   "cell_type": "markdown",
   "id": "07829f40",
   "metadata": {},
   "source": [
    " Exercise 2 - Determine the standard deviation of c.\n",
    "\n"
   ]
  },
  {
   "cell_type": "code",
   "execution_count": null,
   "id": "7a1051c3",
   "metadata": {},
   "outputs": [],
   "source": []
  },
  {
   "cell_type": "markdown",
   "id": "ee904f6d",
   "metadata": {},
   "source": [
    " Exercise 3 - Determine the variance of c.\n",
    "\n"
   ]
  },
  {
   "cell_type": "code",
   "execution_count": null,
   "id": "b2248d79",
   "metadata": {},
   "outputs": [],
   "source": []
  },
  {
   "cell_type": "markdown",
   "id": "02bb0f3a",
   "metadata": {},
   "source": [
    " Exercise 4 - Print out the shape of the array c\n",
    "\n"
   ]
  },
  {
   "cell_type": "code",
   "execution_count": null,
   "id": "774e4cec",
   "metadata": {},
   "outputs": [],
   "source": []
  },
  {
   "cell_type": "markdown",
   "id": "f9348d2e",
   "metadata": {},
   "source": [
    " Exercise 5 - Transpose c and print out transposed result.\n",
    "\n"
   ]
  },
  {
   "cell_type": "code",
   "execution_count": null,
   "id": "825f13b8",
   "metadata": {},
   "outputs": [],
   "source": []
  },
  {
   "cell_type": "markdown",
   "id": "5a261087",
   "metadata": {},
   "source": [
    " Exercise 6 - Get the dot product of the array c with c. \n",
    "\n"
   ]
  },
  {
   "cell_type": "code",
   "execution_count": null,
   "id": "17d5152f",
   "metadata": {},
   "outputs": [],
   "source": []
  },
  {
   "cell_type": "markdown",
   "id": "016544ea",
   "metadata": {},
   "source": [
    " Exercise 7 - Write the code necessary to sum up the result of c times c transposed. Answer should be 261\n",
    "\n"
   ]
  },
  {
   "cell_type": "code",
   "execution_count": null,
   "id": "02dd77b5",
   "metadata": {},
   "outputs": [],
   "source": []
  },
  {
   "cell_type": "markdown",
   "id": "f3398917",
   "metadata": {},
   "source": [
    " Exercise 8 - Write the code necessary to determine the product of c times c transposed. \n",
    " \n",
    " Answer should be 131681894400.\n",
    "\n",
    "\n"
   ]
  },
  {
   "cell_type": "code",
   "execution_count": null,
   "id": "7c3af598",
   "metadata": {},
   "outputs": [],
   "source": []
  },
  {
   "cell_type": "code",
   "execution_count": null,
   "id": "79e7cd77",
   "metadata": {},
   "outputs": [],
   "source": [
    "## Setup 4\n",
    "d = [\n",
    "    [90, 30, 45, 0, 120, 180],\n",
    "    [45, -90, -30, 270, 90, 0],\n",
    "    [60, 45, -45, 90, -45, 180]\n",
    "]\n",
    "\n"
   ]
  },
  {
   "cell_type": "markdown",
   "id": "cb419789",
   "metadata": {},
   "source": [
    " Exercise 1 - Find the sine of all the numbers in d\n",
    "\n"
   ]
  },
  {
   "cell_type": "code",
   "execution_count": null,
   "id": "69e49732",
   "metadata": {},
   "outputs": [],
   "source": []
  },
  {
   "cell_type": "markdown",
   "id": "ebd515ca",
   "metadata": {},
   "source": [
    " Exercise 2 - Find the cosine of all the numbers in d\n",
    "\n"
   ]
  },
  {
   "cell_type": "code",
   "execution_count": null,
   "id": "4826564e",
   "metadata": {},
   "outputs": [],
   "source": []
  },
  {
   "cell_type": "markdown",
   "id": "14265899",
   "metadata": {},
   "source": [
    " Exercise 3 - Find the tangent of all the numbers in d\n",
    "\n"
   ]
  },
  {
   "cell_type": "code",
   "execution_count": null,
   "id": "614a8b04",
   "metadata": {},
   "outputs": [],
   "source": []
  },
  {
   "cell_type": "markdown",
   "id": "41cf81a9",
   "metadata": {},
   "source": [
    " Exercise 4 - Find all the negative numbers in d\n",
    "\n"
   ]
  },
  {
   "cell_type": "code",
   "execution_count": null,
   "id": "353eda63",
   "metadata": {},
   "outputs": [],
   "source": []
  },
  {
   "cell_type": "markdown",
   "id": "22a08298",
   "metadata": {},
   "source": [
    " Exercise 5 - Find all the positive numbers in d\n",
    "\n"
   ]
  },
  {
   "cell_type": "code",
   "execution_count": null,
   "id": "4b603992",
   "metadata": {},
   "outputs": [],
   "source": []
  },
  {
   "cell_type": "markdown",
   "id": "a4a62cd0",
   "metadata": {},
   "source": [
    " Exercise 6 - Return an array of only the unique numbers in d.\n",
    "\n"
   ]
  },
  {
   "cell_type": "code",
   "execution_count": null,
   "id": "81a096c0",
   "metadata": {},
   "outputs": [],
   "source": []
  },
  {
   "cell_type": "markdown",
   "id": "9334b981",
   "metadata": {},
   "source": [
    " Exercise 7 - Determine how many unique numbers there are in d.\n",
    "\n"
   ]
  },
  {
   "cell_type": "code",
   "execution_count": null,
   "id": "650219dc",
   "metadata": {},
   "outputs": [],
   "source": []
  },
  {
   "cell_type": "markdown",
   "id": "f3bb622b",
   "metadata": {},
   "source": [
    " Exercise 8 - Print out the shape of d.\n",
    "\n"
   ]
  },
  {
   "cell_type": "code",
   "execution_count": null,
   "id": "48530d93",
   "metadata": {},
   "outputs": [],
   "source": []
  },
  {
   "cell_type": "markdown",
   "id": "29d18e3e",
   "metadata": {},
   "source": [
    " Exercise 9 - Transpose and then print out the shape of d.\n",
    "\n"
   ]
  },
  {
   "cell_type": "code",
   "execution_count": null,
   "id": "02a0436b",
   "metadata": {},
   "outputs": [],
   "source": []
  },
  {
   "cell_type": "markdown",
   "id": "77329db0",
   "metadata": {},
   "source": [
    " Exercise 10 - Reshape d into an array of 9 x 2"
   ]
  },
  {
   "cell_type": "code",
   "execution_count": null,
   "id": "cdab6f0f",
   "metadata": {},
   "outputs": [],
   "source": []
  }
 ],
 "metadata": {
  "kernelspec": {
   "display_name": "Python 3 (ipykernel)",
   "language": "python",
   "name": "python3"
  },
  "language_info": {
   "codemirror_mode": {
    "name": "ipython",
    "version": 3
   },
   "file_extension": ".py",
   "mimetype": "text/x-python",
   "name": "python",
   "nbconvert_exporter": "python",
   "pygments_lexer": "ipython3",
   "version": "3.9.13"
  }
 },
 "nbformat": 4,
 "nbformat_minor": 5
}
