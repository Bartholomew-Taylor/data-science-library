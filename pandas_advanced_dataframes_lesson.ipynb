{
 "cells": [
  {
   "cell_type": "markdown",
   "id": "607c79fe",
   "metadata": {},
   "source": [
    "# Advanced Dataframes\n",
    "\n",
    "## Agenda\n",
    "\n",
    "1. Part I: Creating Dataframes\n",
    "    - from Lists, Arrays, & Dictionaries\n",
    "    - from PyDataset\n",
    "    - from a SQL query\n",
    "2. Exercises, Part I\n",
    "3. Part II\n",
    "    - Indexing and Subsetting\n",
    "    - Aggregating\n",
    "    - Merging & Joining\n",
    "4. Exercises, Part II\n",
    "5. Part III: Reshaping & Transposing\n",
    "    - Reshaping\n",
    "    - Transposing\n",
    "10. Exercises III"
   ]
  },
  {
   "cell_type": "code",
   "execution_count": 1,
   "id": "dbab02be",
   "metadata": {},
   "outputs": [],
   "source": [
    "# imports\n",
    "import pandas as pd\n",
    "import numpy as np"
   ]
  },
  {
   "cell_type": "markdown",
   "id": "c97dceb7",
   "metadata": {},
   "source": [
    "## Part I: Creating Dataframes\n",
    "\n",
    "### From Lists"
   ]
  },
  {
   "cell_type": "code",
   "execution_count": 2,
   "id": "00693f25",
   "metadata": {},
   "outputs": [
    {
     "data": {
      "text/html": [
       "<div>\n",
       "<style scoped>\n",
       "    .dataframe tbody tr th:only-of-type {\n",
       "        vertical-align: middle;\n",
       "    }\n",
       "\n",
       "    .dataframe tbody tr th {\n",
       "        vertical-align: top;\n",
       "    }\n",
       "\n",
       "    .dataframe thead th {\n",
       "        text-align: right;\n",
       "    }\n",
       "</style>\n",
       "<table border=\"1\" class=\"dataframe\">\n",
       "  <thead>\n",
       "    <tr style=\"text-align: right;\">\n",
       "      <th></th>\n",
       "      <th>0</th>\n",
       "      <th>1</th>\n",
       "      <th>2</th>\n",
       "    </tr>\n",
       "  </thead>\n",
       "  <tbody>\n",
       "    <tr>\n",
       "      <th>0</th>\n",
       "      <td>1</td>\n",
       "      <td>2</td>\n",
       "      <td>3</td>\n",
       "    </tr>\n",
       "    <tr>\n",
       "      <th>1</th>\n",
       "      <td>4</td>\n",
       "      <td>5</td>\n",
       "      <td>6</td>\n",
       "    </tr>\n",
       "  </tbody>\n",
       "</table>\n",
       "</div>"
      ],
      "text/plain": [
       "   0  1  2\n",
       "0  1  2  3\n",
       "1  4  5  6"
      ]
     },
     "execution_count": 2,
     "metadata": {},
     "output_type": "execute_result"
    }
   ],
   "source": [
    "pd.DataFrame([[1,2,3],[4,5,6]])"
   ]
  },
  {
   "cell_type": "markdown",
   "id": "d9154978",
   "metadata": {},
   "source": [
    "### From Arrays"
   ]
  },
  {
   "cell_type": "code",
   "execution_count": 3,
   "id": "bac338c6",
   "metadata": {},
   "outputs": [
    {
     "data": {
      "text/html": [
       "<div>\n",
       "<style scoped>\n",
       "    .dataframe tbody tr th:only-of-type {\n",
       "        vertical-align: middle;\n",
       "    }\n",
       "\n",
       "    .dataframe tbody tr th {\n",
       "        vertical-align: top;\n",
       "    }\n",
       "\n",
       "    .dataframe thead th {\n",
       "        text-align: right;\n",
       "    }\n",
       "</style>\n",
       "<table border=\"1\" class=\"dataframe\">\n",
       "  <thead>\n",
       "    <tr style=\"text-align: right;\">\n",
       "      <th></th>\n",
       "      <th>a</th>\n",
       "      <th>b</th>\n",
       "      <th>c</th>\n",
       "    </tr>\n",
       "  </thead>\n",
       "  <tbody>\n",
       "    <tr>\n",
       "      <th>0</th>\n",
       "      <td>1</td>\n",
       "      <td>2</td>\n",
       "      <td>3</td>\n",
       "    </tr>\n",
       "    <tr>\n",
       "      <th>1</th>\n",
       "      <td>4</td>\n",
       "      <td>5</td>\n",
       "      <td>6</td>\n",
       "    </tr>\n",
       "  </tbody>\n",
       "</table>\n",
       "</div>"
      ],
      "text/plain": [
       "   a  b  c\n",
       "0  1  2  3\n",
       "1  4  5  6"
      ]
     },
     "execution_count": 3,
     "metadata": {},
     "output_type": "execute_result"
    }
   ],
   "source": [
    "a = np.array([[1,2,3],[4,5,6]])\n",
    "pd.DataFrame(a, columns = ['a','b','c'])"
   ]
  },
  {
   "cell_type": "markdown",
   "id": "c1e2dc61",
   "metadata": {},
   "source": [
    "### From Dictionaries"
   ]
  },
  {
   "cell_type": "code",
   "execution_count": 4,
   "id": "04a95b46",
   "metadata": {},
   "outputs": [
    {
     "data": {
      "text/html": [
       "<div>\n",
       "<style scoped>\n",
       "    .dataframe tbody tr th:only-of-type {\n",
       "        vertical-align: middle;\n",
       "    }\n",
       "\n",
       "    .dataframe tbody tr th {\n",
       "        vertical-align: top;\n",
       "    }\n",
       "\n",
       "    .dataframe thead th {\n",
       "        text-align: right;\n",
       "    }\n",
       "</style>\n",
       "<table border=\"1\" class=\"dataframe\">\n",
       "  <thead>\n",
       "    <tr style=\"text-align: right;\">\n",
       "      <th></th>\n",
       "      <th>a</th>\n",
       "      <th>b</th>\n",
       "      <th>c</th>\n",
       "    </tr>\n",
       "  </thead>\n",
       "  <tbody>\n",
       "    <tr>\n",
       "      <th>0</th>\n",
       "      <td>1</td>\n",
       "      <td>2</td>\n",
       "      <td>3</td>\n",
       "    </tr>\n",
       "    <tr>\n",
       "      <th>1</th>\n",
       "      <td>4</td>\n",
       "      <td>5</td>\n",
       "      <td>6</td>\n",
       "    </tr>\n",
       "  </tbody>\n",
       "</table>\n",
       "</div>"
      ],
      "text/plain": [
       "   a  b  c\n",
       "0  1  2  3\n",
       "1  4  5  6"
      ]
     },
     "execution_count": 4,
     "metadata": {},
     "output_type": "execute_result"
    }
   ],
   "source": [
    "pd.DataFrame({'a':[1,4],\n",
    "             'b':[2,5],\n",
    "             'c':[3,6]\n",
    "             })"
   ]
  },
  {
   "cell_type": "markdown",
   "id": "cf4688a0",
   "metadata": {},
   "source": [
    "### From PyDataset"
   ]
  },
  {
   "cell_type": "code",
   "execution_count": 5,
   "id": "47212d7e",
   "metadata": {},
   "outputs": [],
   "source": [
    "from pydataset import data"
   ]
  },
  {
   "cell_type": "code",
   "execution_count": null,
   "id": "c76bc6f1",
   "metadata": {},
   "outputs": [],
   "source": []
  },
  {
   "cell_type": "code",
   "execution_count": null,
   "id": "5ade8f5b",
   "metadata": {},
   "outputs": [],
   "source": []
  },
  {
   "cell_type": "markdown",
   "id": "bcadaef5",
   "metadata": {},
   "source": [
    "### From SQL\n",
    "\n",
    "We can use the read_sql method to create a dataframe based on the results of a SQL query. To do this, we need to tell pandas how to connect to the database we are querying. The way we communicate this to pandas is with a specially formatted connection string.\n",
    "\n",
    "In addition, whenever we want to connect to a database from our python code (other programming languages are similar), we will need a driver, a bit of software that handles the details of the database connection.\n",
    "\n",
    "1. In order to connect to mysql, we'll install the pymysql driver packages by typing the following in your terminal: `python -m pip install pymysql'\n",
    "1. **Add env.py to the repo's .gitignore file**\n",
    "2. create a text file called env.py, and in your text file, write the following (filling in the corresponding info):\n",
    "\n",
    "```python\n",
    "host = '<ip_address>'\n",
    "username = '<your_username>'\n",
    "password = '<your_password>'\n",
    "```\n",
    "\n",
    "4. import the host, username, and password variables from the env.py file. Note that upon import, you use `env`, not `env.py`. **once you assign the string to the variable `url`, DO NOT print the value of url to your notebook. If you do this and push the notebook to github, your username and password will be visible to others.**"
   ]
  },
  {
   "cell_type": "code",
   "execution_count": 14,
   "id": "6d39c932",
   "metadata": {},
   "outputs": [],
   "source": [
    "from pydataset import data\n",
    "import pandas as pd\n",
    "import numpy as np\n",
    "from env import host, username, password \n",
    "\n",
    "# create the url variable (string) with my username, password and host inserted\n",
    "url = f'mysql+pymysql://{username}:{password}@{host}/employees'   \n",
    "    \n"
   ]
  },
  {
   "cell_type": "code",
   "execution_count": 15,
   "id": "5780d835",
   "metadata": {},
   "outputs": [],
   "source": [
    "# write the SQL query to gather data, assign to variable 'query'\n",
    "query = 'SELECT * FROM employees LIMIT 10'"
   ]
  },
  {
   "cell_type": "code",
   "execution_count": 16,
   "id": "63d93290",
   "metadata": {},
   "outputs": [],
   "source": [
    "df = pd.read_sql(query, url)\n",
    "# read the data passing the function the query and the url string"
   ]
  },
  {
   "cell_type": "code",
   "execution_count": 17,
   "id": "add1bea9",
   "metadata": {},
   "outputs": [
    {
     "data": {
      "text/html": [
       "<div>\n",
       "<style scoped>\n",
       "    .dataframe tbody tr th:only-of-type {\n",
       "        vertical-align: middle;\n",
       "    }\n",
       "\n",
       "    .dataframe tbody tr th {\n",
       "        vertical-align: top;\n",
       "    }\n",
       "\n",
       "    .dataframe thead th {\n",
       "        text-align: right;\n",
       "    }\n",
       "</style>\n",
       "<table border=\"1\" class=\"dataframe\">\n",
       "  <thead>\n",
       "    <tr style=\"text-align: right;\">\n",
       "      <th></th>\n",
       "      <th>emp_no</th>\n",
       "      <th>birth_date</th>\n",
       "      <th>first_name</th>\n",
       "      <th>last_name</th>\n",
       "      <th>gender</th>\n",
       "      <th>hire_date</th>\n",
       "    </tr>\n",
       "  </thead>\n",
       "  <tbody>\n",
       "    <tr>\n",
       "      <th>0</th>\n",
       "      <td>10001</td>\n",
       "      <td>1953-09-02</td>\n",
       "      <td>Georgi</td>\n",
       "      <td>Facello</td>\n",
       "      <td>M</td>\n",
       "      <td>1986-06-26</td>\n",
       "    </tr>\n",
       "    <tr>\n",
       "      <th>1</th>\n",
       "      <td>10002</td>\n",
       "      <td>1964-06-02</td>\n",
       "      <td>Bezalel</td>\n",
       "      <td>Simmel</td>\n",
       "      <td>F</td>\n",
       "      <td>1985-11-21</td>\n",
       "    </tr>\n",
       "    <tr>\n",
       "      <th>2</th>\n",
       "      <td>10003</td>\n",
       "      <td>1959-12-03</td>\n",
       "      <td>Parto</td>\n",
       "      <td>Bamford</td>\n",
       "      <td>M</td>\n",
       "      <td>1986-08-28</td>\n",
       "    </tr>\n",
       "    <tr>\n",
       "      <th>3</th>\n",
       "      <td>10004</td>\n",
       "      <td>1954-05-01</td>\n",
       "      <td>Chirstian</td>\n",
       "      <td>Koblick</td>\n",
       "      <td>M</td>\n",
       "      <td>1986-12-01</td>\n",
       "    </tr>\n",
       "    <tr>\n",
       "      <th>4</th>\n",
       "      <td>10005</td>\n",
       "      <td>1955-01-21</td>\n",
       "      <td>Kyoichi</td>\n",
       "      <td>Maliniak</td>\n",
       "      <td>M</td>\n",
       "      <td>1989-09-12</td>\n",
       "    </tr>\n",
       "  </tbody>\n",
       "</table>\n",
       "</div>"
      ],
      "text/plain": [
       "   emp_no  birth_date first_name last_name gender   hire_date\n",
       "0   10001  1953-09-02     Georgi   Facello      M  1986-06-26\n",
       "1   10002  1964-06-02    Bezalel    Simmel      F  1985-11-21\n",
       "2   10003  1959-12-03      Parto   Bamford      M  1986-08-28\n",
       "3   10004  1954-05-01  Chirstian   Koblick      M  1986-12-01\n",
       "4   10005  1955-01-21    Kyoichi  Maliniak      M  1989-09-12"
      ]
     },
     "execution_count": 17,
     "metadata": {},
     "output_type": "execute_result"
    }
   ],
   "source": [
    "# write a query in multiple lines:\n",
    "df.head()"
   ]
  },
  {
   "cell_type": "code",
   "execution_count": null,
   "id": "42dfb806",
   "metadata": {},
   "outputs": [],
   "source": [
    "query = '''\n",
    "\n",
    "SELECT\n",
    "    emp_no,\n",
    "    first_name,\n",
    "    last_name,\n",
    "FROM employees\n",
    "WHERE gender = 'F'\n",
    "LIMIT 100;\n",
    "'''\n",
    "\n",
    "employees_df = pd.read_sql(query, url)\n",
    "employees_df.head()"
   ]
  },
  {
   "cell_type": "markdown",
   "id": "21079f7c",
   "metadata": {},
   "source": [
    "## Exercises, Part I\n",
    "\n",
    "Create a notebook or python script named `advanced_dataframes` to do your work in for these exercises.\n",
    "\n",
    "1. Run python -m pip install pymysql from your terminal to install the mysql client (any folder is fine)\n",
    "\n",
    "2. cd into your exercises folder for this module and run echo env.py >> .gitignore\n",
    "\n",
    "3. Create a function named get_db_url. It should accept a username, hostname, password, and database name and return a url connection string formatted like in the example at the start of this lesson.\n",
    "\n",
    "4. Use your function to obtain a connection to the employees database.\n",
    "\n",
    "5. Once you have successfully run a query:\n",
    "    - Intentionally make a typo in the database url. What kind of error message do you see?\n",
    "    - Intentionally make an error in your SQL query. What does the error message look like?\n",
    "\n",
    "\n",
    "6. Read the employees and titles tables into two separate DataFrames.\n",
    "\n",
    "7. How many rows and columns do you have in each DataFrame? Is that what you expected?\n",
    "\n",
    "8. Display the summary statistics for each DataFrame.\n",
    "\n",
    "9. How many unique titles are in the titles DataFrame?\n",
    "\n",
    "10. What is the oldest date in the to_date column?\n",
    "\n",
    "11. What is the most recent date in the to_date column?"
   ]
  },
  {
   "cell_type": "code",
   "execution_count": null,
   "id": "bc2e3194",
   "metadata": {},
   "outputs": [],
   "source": [
    "import os\n",
    "import env \n",
    "def get_db_url(db, env_file = os.path.exists('env.py')):\n",
    "    '''\n",
    "    this will return a formatted string containing username, password, host, and database\n",
    "    for connecting to the mysql server and the database indicated.\n",
    "    env_file checks to see if the env.py exists in the cwd\n",
    "    \n",
    "    '''\n",
    "    if env_file:\n",
    "        username, password, host = (env.username, env.password, env.host)\n",
    "        return f'mysql+pymysql://{username}:{password}@{host}/{db}'\n",
    "    else:\n",
    "        return 'you need to a username'\n",
    "    \n",
    "url = get_db_url('employees')"
   ]
  },
  {
   "cell_type": "markdown",
   "id": "084f3977",
   "metadata": {},
   "source": [
    "## Part II\n",
    "\n",
    "### Indexing and Subsetting\n",
    "\n",
    "- `[]`: subset rows using a boolean mask, or subset columns using a list of column names. \n",
    "- `.loc`: allows for subsetting rows and columns simultaneously, using the labels/names of rows/columns. \n",
    "- `.iloc`: allows for subsetting rows and columns simultaneously, using the index location or position of rows/columns. "
   ]
  },
  {
   "cell_type": "code",
   "execution_count": null,
   "id": "21489a91",
   "metadata": {},
   "outputs": [],
   "source": [
    "# Create list of values for names column.\n",
    "import pandas as pd\n",
    "import numpy as np\n",
    "\n",
    "np.random.seed(123)\n",
    "\n",
    "names = ['Sally', 'Jane', 'Suzie', 'Billy', 'Ada', 'John', 'Thomas', 'Marie', 'Albert', 'Richard', 'Isaac', 'Alan']\n"
   ]
  },
  {
   "cell_type": "code",
   "execution_count": null,
   "id": "4ef9f0f0",
   "metadata": {},
   "outputs": [],
   "source": [
    "# Randomly generate arrays of scores for each student for each subject.\n",
    "# Note that all the values need to have the same length here.\n",
    "\n",
    "math_grades = np.random.randint(low=60, high=101, size=len(names))\n",
    "english_grades = np.random.randint(low=60, high=101, size=len(names))\n",
    "reading_grades = np.random.randint(low=60, high=101, size=len(names))\n",
    "\n",
    "classroom = np.random.choice(['A','B'], len(names))"
   ]
  },
  {
   "cell_type": "code",
   "execution_count": null,
   "id": "fca71262",
   "metadata": {},
   "outputs": [],
   "source": [
    "# Construct the DataFrame using the above lists and arrays.\n",
    "\n",
    "\n",
    "df = pd.DataFrame({'names': names,\n",
    "                    'math': math_grades,\n",
    "                      'english': english_grades,\n",
    "                      'reading': reading_grades,\n",
    "                      'classroom': classroom\n",
    "                      })"
   ]
  },
  {
   "cell_type": "markdown",
   "id": "6a25c610",
   "metadata": {},
   "source": [
    "Bracket: `[]`"
   ]
  },
  {
   "cell_type": "code",
   "execution_count": null,
   "id": "0ab306b9",
   "metadata": {},
   "outputs": [],
   "source": [
    "# select 2 columns from the class\n",
    "df[['names','classroom']]"
   ]
  },
  {
   "cell_type": "code",
   "execution_count": null,
   "id": "85ca1c73",
   "metadata": {},
   "outputs": [],
   "source": [
    "# I can pass a boolean Series to the indexing operator as a selector.\n",
    "bools = df.names.str.startswith('A')"
   ]
  },
  {
   "cell_type": "code",
   "execution_count": null,
   "id": "ba7930a9",
   "metadata": {},
   "outputs": [],
   "source": [
    "# then subset using brackets with the boolean series"
   ]
  },
  {
   "cell_type": "markdown",
   "id": "4e380794",
   "metadata": {},
   "source": [
    "`.loc`\n",
    "\n",
    "- Select specific rows AND columns by index **label**. \n",
    "- The index label can be a number, but it can also be a string label. \n",
    "- It is **inclusive.**\n",
    "\n",
    "`df.loc[row_indexer, column_indexer]`"
   ]
  },
  {
   "cell_type": "code",
   "execution_count": null,
   "id": "50bfee14",
   "metadata": {},
   "outputs": [],
   "source": [
    "# Select all the rows and a subset of columns; \n",
    "# notice the inclusive behavior of the indexing.\n",
    "df.loc[:,'math':'reading'].head(5)"
   ]
  },
  {
   "cell_type": "code",
   "execution_count": null,
   "id": "5c568a89",
   "metadata": {},
   "outputs": [],
   "source": [
    "# I can use a boolean Series as a selector with .loc, too, \n",
    "# but I can choose rows and columns.\n",
    "df.loc[bools, 'math':'reading']"
   ]
  },
  {
   "cell_type": "markdown",
   "id": "b7490c5c",
   "metadata": {},
   "source": [
    "`.iloc`\n",
    "\n",
    "- Select specific rows and colums by index **position**. \n",
    "- It does **not** accept a boolean Series as a selector like .loc does. \n",
    "- It takes in integers representing index position\n",
    "- It is **exclusive**.\n",
    "\n",
    "`df.iloc[row_indexer, column_indexer]`"
   ]
  },
  {
   "cell_type": "code",
   "execution_count": null,
   "id": "d80f4311",
   "metadata": {},
   "outputs": [],
   "source": [
    "# select rows by integer position\n",
    "# notice the exclusive behavior of the indexing"
   ]
  },
  {
   "cell_type": "code",
   "execution_count": null,
   "id": "1e401897",
   "metadata": {},
   "outputs": [],
   "source": [
    "df.iloc[:4, 2:5]"
   ]
  },
  {
   "cell_type": "markdown",
   "id": "53fe4a91",
   "metadata": {},
   "source": [
    "### Aggregating\n",
    "\n",
    "`.agg`\n",
    "\n",
    "- Specify a way to aggregate a series of numerical values. \n",
    "- We pass an aggregate function or list of functions to the method that we want applied to a Series."
   ]
  },
  {
   "cell_type": "code",
   "execution_count": 18,
   "id": "9d21b799",
   "metadata": {},
   "outputs": [
    {
     "ename": "AttributeError",
     "evalue": "'DataFrame' object has no attribute 'reading'",
     "output_type": "error",
     "traceback": [
      "\u001b[0;31m---------------------------------------------------------------------------\u001b[0m",
      "\u001b[0;31mAttributeError\u001b[0m                            Traceback (most recent call last)",
      "Input \u001b[0;32mIn [18]\u001b[0m, in \u001b[0;36m<cell line: 1>\u001b[0;34m()\u001b[0m\n\u001b[0;32m----> 1\u001b[0m \u001b[43mdf\u001b[49m\u001b[38;5;241;43m.\u001b[39;49m\u001b[43mreading\u001b[49m\u001b[38;5;241m.\u001b[39magg(\u001b[38;5;124m'\u001b[39m\u001b[38;5;124mmin\u001b[39m\u001b[38;5;124m'\u001b[39m)\n",
      "File \u001b[0;32m/opt/homebrew/anaconda3/lib/python3.9/site-packages/pandas/core/generic.py:5575\u001b[0m, in \u001b[0;36mNDFrame.__getattr__\u001b[0;34m(self, name)\u001b[0m\n\u001b[1;32m   5568\u001b[0m \u001b[38;5;28;01mif\u001b[39;00m (\n\u001b[1;32m   5569\u001b[0m     name \u001b[38;5;129;01mnot\u001b[39;00m \u001b[38;5;129;01min\u001b[39;00m \u001b[38;5;28mself\u001b[39m\u001b[38;5;241m.\u001b[39m_internal_names_set\n\u001b[1;32m   5570\u001b[0m     \u001b[38;5;129;01mand\u001b[39;00m name \u001b[38;5;129;01mnot\u001b[39;00m \u001b[38;5;129;01min\u001b[39;00m \u001b[38;5;28mself\u001b[39m\u001b[38;5;241m.\u001b[39m_metadata\n\u001b[1;32m   5571\u001b[0m     \u001b[38;5;129;01mand\u001b[39;00m name \u001b[38;5;129;01mnot\u001b[39;00m \u001b[38;5;129;01min\u001b[39;00m \u001b[38;5;28mself\u001b[39m\u001b[38;5;241m.\u001b[39m_accessors\n\u001b[1;32m   5572\u001b[0m     \u001b[38;5;129;01mand\u001b[39;00m \u001b[38;5;28mself\u001b[39m\u001b[38;5;241m.\u001b[39m_info_axis\u001b[38;5;241m.\u001b[39m_can_hold_identifiers_and_holds_name(name)\n\u001b[1;32m   5573\u001b[0m ):\n\u001b[1;32m   5574\u001b[0m     \u001b[38;5;28;01mreturn\u001b[39;00m \u001b[38;5;28mself\u001b[39m[name]\n\u001b[0;32m-> 5575\u001b[0m \u001b[38;5;28;01mreturn\u001b[39;00m \u001b[38;5;28;43mobject\u001b[39;49m\u001b[38;5;241;43m.\u001b[39;49m\u001b[38;5;21;43m__getattribute__\u001b[39;49m\u001b[43m(\u001b[49m\u001b[38;5;28;43mself\u001b[39;49m\u001b[43m,\u001b[49m\u001b[43m \u001b[49m\u001b[43mname\u001b[49m\u001b[43m)\u001b[49m\n",
      "\u001b[0;31mAttributeError\u001b[0m: 'DataFrame' object has no attribute 'reading'"
     ]
    }
   ],
   "source": [
    "df.reading.agg('min')"
   ]
  },
  {
   "cell_type": "markdown",
   "id": "5586bdbf",
   "metadata": {},
   "source": [
    "What happens if you run it on the entire dataframe, not just a series of a single column? "
   ]
  },
  {
   "cell_type": "code",
   "execution_count": null,
   "id": "640c2cdc",
   "metadata": {},
   "outputs": [],
   "source": [
    "# aggregate each column in the dataframe by taking the min value\n",
    "df[['math','english','reading']].agg(['mean', 'min','max']).round(2)"
   ]
  },
  {
   "cell_type": "markdown",
   "id": "b41245db",
   "metadata": {},
   "source": [
    "While on the surface this seems pretty simple, `.agg` is capable of providing more detailed aggregations:"
   ]
  },
  {
   "cell_type": "code",
   "execution_count": null,
   "id": "ea4dd3c7",
   "metadata": {},
   "outputs": [],
   "source": []
  },
  {
   "cell_type": "markdown",
   "id": "343f53e1",
   "metadata": {},
   "source": [
    "`groupby`\n",
    "\n",
    "- Creates a grouped object. \n",
    "- Then apply an aggregation on that object. \n",
    "\n",
    "For example, if we wanted to know the highest math grade from each classroom:"
   ]
  },
  {
   "cell_type": "code",
   "execution_count": null,
   "id": "d54474ce",
   "metadata": {},
   "outputs": [],
   "source": [
    "df.groupby('classroom').math.agg(['mean'])"
   ]
  },
  {
   "cell_type": "markdown",
   "id": "52263dcc",
   "metadata": {},
   "source": [
    "We can use `.agg` here to, to see multiple aggregations:"
   ]
  },
  {
   "cell_type": "code",
   "execution_count": null,
   "id": "d99c58cd",
   "metadata": {},
   "outputs": [],
   "source": [
    "df.groupby('classroom')[['math','english']].agg(['mean',\n",
    "                                                    'median',\n",
    "                                                    'max',\n",
    "                                                    'min'\n",
    "                                                    ])\n",
    "\n",
    "#nested columns"
   ]
  },
  {
   "cell_type": "markdown",
   "id": "1b3803e0",
   "metadata": {},
   "source": [
    "We can group by multiple columns as well. \n",
    "\n",
    "Let's compute the average reading grade for students who are passing english and those who are not passing english. \n"
   ]
  },
  {
   "cell_type": "code",
   "execution_count": null,
   "id": "3349ef22",
   "metadata": {},
   "outputs": [],
   "source": [
    "# Create a boolean column named passing_english \n",
    "# based on the math column using np.where\n",
    "df['passing_math'] = np.where(df.math < 70, 'failing', 'passing')\n",
    "df"
   ]
  },
  {
   "cell_type": "code",
   "execution_count": null,
   "id": "02760c64",
   "metadata": {},
   "outputs": [],
   "source": [
    "# Group by the combination of our new feature, passing_english,\n",
    "# and the classroom.\n",
    "# aggregate by calculating average reading grade\n",
    "grade_groups = df.groupby(['classroom','passing_math']).reading.agg(['mean','count'])"
   ]
  },
  {
   "cell_type": "code",
   "execution_count": null,
   "id": "6b52706d",
   "metadata": {},
   "outputs": [],
   "source": [
    "# clean up the column names to make the data more transparent\n",
    "grade_groups.index\n",
    "grade_groups.columns = ['avg_reading_grade', 'number_of_students']\n",
    "grade_groups"
   ]
  },
  {
   "cell_type": "markdown",
   "id": "b96b909f",
   "metadata": {},
   "source": [
    "`.transform`\n",
    "\n",
    "When you want to add an aggregate value, like the average math grades for each classroom, back to the original dataframe. "
   ]
  },
  {
   "cell_type": "code",
   "execution_count": null,
   "id": "aac5c166",
   "metadata": {},
   "outputs": [],
   "source": [
    "df.groupby('classroom').math.agg('mean')"
   ]
  },
  {
   "cell_type": "code",
   "execution_count": null,
   "id": "c95b0097",
   "metadata": {},
   "outputs": [],
   "source": [
    "df.assign(avg_math_by_classroom = df.groupby('classroom').math.transform('mean'))\n",
    "#transform works to spread it across the dataframe"
   ]
  },
  {
   "cell_type": "code",
   "execution_count": null,
   "id": "7582e10b",
   "metadata": {},
   "outputs": [],
   "source": [
    "df"
   ]
  },
  {
   "cell_type": "markdown",
   "id": "127f3965",
   "metadata": {},
   "source": [
    "`.describe` \n",
    "\n",
    "Can be used with `groupby` also. "
   ]
  },
  {
   "cell_type": "code",
   "execution_count": null,
   "id": "8f6c57ad",
   "metadata": {},
   "outputs": [],
   "source": [
    "df.groupby('classroom').describe().T"
   ]
  },
  {
   "cell_type": "markdown",
   "id": "3f6074be",
   "metadata": {},
   "source": [
    "### Merging & Joining\n",
    "\n",
    "Ways to combine dataframes together\n",
    "\n",
    "`pd.concat`\n",
    "\n",
    "- This function takes in a list or dictionary of Series or DataFrame objects and joins them along a particular axis\n",
    "- Row-wise: axis=0, means your new data frame will be longer with more rows. \n",
    "- Column-wise: axis=1, means your new dataframe will be wider with more columns. \n",
    "- When your list contains at least one DataFrame, a DataFrame is returned.\n",
    "- When concatenating only Series objects row-wise, axis=0, a Series is returned.\n",
    "- When concatenating Series or DataFrames column-wise, axis=1, a DataFrame is returned.\n",
    "\n",
    "default parameters: \n",
    "\n",
    "`pd.concat(objs_in_list, axis=0, join='outer')`"
   ]
  },
  {
   "cell_type": "code",
   "execution_count": null,
   "id": "15c01e18",
   "metadata": {},
   "outputs": [],
   "source": [
    "# concatenate 2 dataframes by passing a list of the 2 dfs, and \n",
    "# indicating whether to concatenate along the rows or the columns"
   ]
  },
  {
   "cell_type": "code",
   "execution_count": null,
   "id": "c04889ce",
   "metadata": {},
   "outputs": [],
   "source": [
    "df.shape"
   ]
  },
  {
   "cell_type": "code",
   "execution_count": null,
   "id": "798f2da8",
   "metadata": {},
   "outputs": [],
   "source": [
    "df1 = pd.DataFrame({'a': [1,2,3]})\n",
    "df2 = pd.DataFrame({'a': [98,6,5]})\n",
    "pd.concat([df1,df2], axis=0)"
   ]
  },
  {
   "cell_type": "code",
   "execution_count": null,
   "id": "73089792",
   "metadata": {},
   "outputs": [],
   "source": []
  },
  {
   "cell_type": "code",
   "execution_count": null,
   "id": "bbb371b4",
   "metadata": {},
   "outputs": [],
   "source": []
  },
  {
   "cell_type": "code",
   "execution_count": null,
   "id": "276e76fd",
   "metadata": {},
   "outputs": [],
   "source": []
  },
  {
   "cell_type": "markdown",
   "id": "18474902",
   "metadata": {},
   "source": [
    "`.merge`\n",
    "\n",
    "- Similar to a SQL join.\n",
    "- first dataframe is the 'left' table. \n",
    "- `how`: Type of merge to be performed.\n",
    "    - `how=left`: use only keys from left frame, similar to a SQL left outer join; preserve key order.\n",
    "    - `how=right`: use only keys from right frame, similar to a SQL right outer join; preserve key order.\n",
    "    - `how=outer`: use union of keys from both frames, similar to a SQL full outer join; sort keys lexicographically.\n",
    "    - `how=inner`: use intersection of keys from both frames, similar to a SQL inner join; preserve the order of the left keys.\n"
   ]
  },
  {
   "cell_type": "code",
   "execution_count": null,
   "id": "947a8b62",
   "metadata": {},
   "outputs": [],
   "source": [
    "# Create the users DataFrame.\n",
    "users = pd.DataFrame({\n",
    "    'id':[1,2,3,4,5,6],\n",
    "    'name':['bob','joe','sally','adam','jorge', 'mike'],\n",
    "    'role_id':[1,2,3,3,np.nan,np.nan]\n",
    "    \n",
    "    \n",
    "})\n",
    "users"
   ]
  },
  {
   "cell_type": "code",
   "execution_count": null,
   "id": "18baec6e",
   "metadata": {},
   "outputs": [],
   "source": [
    "# Create the roles DataFrame\n",
    "roles = pd.DataFrame({\n",
    "    'id': [1,2,3,4],\n",
    "    'name':['admin','author','reviewer','commenter']\n",
    "})\n",
    "roles"
   ]
  },
  {
   "cell_type": "markdown",
   "id": "f42a65b5",
   "metadata": {},
   "source": [
    "- `left_on` and `right_on`: indicate the columns that are the keys used to merge the dataframes together.\n",
    "\n",
    "- `indicator`=`True` will create a column indicating whether the merge key appears in the `left_only`, `right_only` or `both` DataFrames."
   ]
  },
  {
   "cell_type": "code",
   "execution_count": null,
   "id": "1b0bce33",
   "metadata": {},
   "outputs": [],
   "source": [
    "# Perform an outer join specifying the left and right DataFrame keys.\n",
    "users.merge(roles, left_on='role_id', right_on = 'id', how='outer',indicator = True)"
   ]
  },
  {
   "cell_type": "markdown",
   "id": "73185555",
   "metadata": {},
   "source": [
    "- suffix of `_x` to any columns in the left dataframe that are duplicated, \n",
    "- suffix of `_y` to any columns in the right dataframe that are duplicated. \n",
    "- can clean up column names using **method chaining**."
   ]
  },
  {
   "cell_type": "code",
   "execution_count": null,
   "id": "2dcba860",
   "metadata": {},
   "outputs": [],
   "source": [
    "(users.merge(roles, left_on='role_id', right_on = 'id', how='outer',indicator = True)\n",
    "             .drop(columns = 'role_id')\n",
    "            .rename(columns={'id_x':'id',\n",
    "                            'name_x':'employee',\n",
    "                             'id_y':'role_id',\n",
    "                             'name_y':'role'}))"
   ]
  },
  {
   "cell_type": "markdown",
   "id": "c573f449",
   "metadata": {},
   "source": [
    "## Part 3: Reshaping and Transposing\n",
    "\n",
    "1. Reshaping: pd.crosstab, .pivot_table\n",
    "2. Transposing\n",
    "\n",
    "### Reshaping\n",
    "\n",
    "`pd.crosstab`\n",
    "\n",
    "Count the number of students passing math in each classroom (student grades df):"
   ]
  },
  {
   "cell_type": "code",
   "execution_count": null,
   "id": "9f0b10ee",
   "metadata": {},
   "outputs": [],
   "source": [
    "df"
   ]
  },
  {
   "cell_type": "code",
   "execution_count": null,
   "id": "9e81bb32",
   "metadata": {},
   "outputs": [],
   "source": [
    "pd.crosstab(df.passing_math,df.classroom)"
   ]
  },
  {
   "cell_type": "markdown",
   "id": "b3de8877",
   "metadata": {},
   "source": [
    "Add subtotals using the `margins` argument:"
   ]
  },
  {
   "cell_type": "code",
   "execution_count": null,
   "id": "6cb173bd",
   "metadata": {},
   "outputs": [],
   "source": [
    "pd.crosstab(df.passing_math, df.classroom,\n",
    "            margins=True)"
   ]
  },
  {
   "cell_type": "markdown",
   "id": "a9155cd4",
   "metadata": {},
   "source": [
    "View percentages instead of actual values using the `normalize` argument. "
   ]
  },
  {
   "cell_type": "code",
   "execution_count": null,
   "id": "4767c736",
   "metadata": {},
   "outputs": [],
   "source": [
    "pd.crosstab(df.passing_math, df.classroom,\n",
    "            margins=True, normalize ='columns').round(2)"
   ]
  },
  {
   "cell_type": "markdown",
   "id": "d28b57c5",
   "metadata": {},
   "source": [
    "`.pivot_table`\n",
    "\n",
    "Like an excel pivot table\n",
    "\n",
    "Supply 4 pieces of info to arguments: \n",
    "- which values will make up the rows, the `index`\n",
    "- which values will make up the columns\n",
    "- the values we are aggregating\n",
    "- an aggregation method (`aggfunc`) (default is `mean`). \n",
    "\n",
    "Example: Calculate the average math grade for the combination of `classroom` and `passing_math` status. "
   ]
  },
  {
   "cell_type": "code",
   "execution_count": null,
   "id": "355b2bae",
   "metadata": {},
   "outputs": [],
   "source": [
    "df.pivot_table(index='classroom', \n",
    "               columns= 'passing_math', \n",
    "               values = 'math', \n",
    "               aggfunc= ['mean','sum'])"
   ]
  },
  {
   "cell_type": "markdown",
   "id": "51419803",
   "metadata": {},
   "source": [
    "Create a new dataframe: orders at a restaurant. "
   ]
  },
  {
   "cell_type": "code",
   "execution_count": null,
   "id": "0693f048",
   "metadata": {},
   "outputs": [],
   "source": [
    "n = 40\n",
    "\n",
    "orders = pd.DataFrame({\n",
    "    'drink': np.random.choice(['Tea', 'Water', 'Water'], n),\n",
    "    'meal': np.random.choice(['Curry', 'Yakisoba Noodle', 'Pad Thai'], n),\n",
    "})\n",
    "\n",
    "orders.sample(10)\n"
   ]
  },
  {
   "cell_type": "markdown",
   "id": "52dec345",
   "metadata": {},
   "source": [
    "`.map`\n",
    "\n",
    "Use a dictionary to calculate the total price for an order. Then save the calculations to a new column named `bill`. "
   ]
  },
  {
   "cell_type": "code",
   "execution_count": null,
   "id": "0f464b3c",
   "metadata": {},
   "outputs": [],
   "source": [
    "\n",
    "\n",
    "# Create a dictionary of prices for drinks and meals.\n",
    "\n",
    "prices = {\n",
    "    'Yakisoba Noodle': 9,\n",
    "    'Curry': 11,\n",
    "    'Pad Thai': 10,\n",
    "    'Tea': 2,\n",
    "    'Water': 0,\n",
    "}\n"
   ]
  },
  {
   "cell_type": "code",
   "execution_count": null,
   "id": "f8cca59f",
   "metadata": {},
   "outputs": [],
   "source": [
    "# match the values in the drink and meal columns with the values \n",
    "# in the prices and perform the specificied calculations. \n",
    "# save to a new column, bill\n",
    "\n",
    "orders['bill'] = orders.drink.map(prices) + orders.meal.map(prices)\n",
    "orders.head()"
   ]
  },
  {
   "cell_type": "code",
   "execution_count": null,
   "id": "b8fb78d7",
   "metadata": {},
   "outputs": [],
   "source": [
    "# use crosstab to look at how many orders have each combination of\n",
    "# meal and drink\n",
    "pd.crosstab(orders.drink, orders. meal)"
   ]
  },
  {
   "cell_type": "code",
   "execution_count": null,
   "id": "5096043b",
   "metadata": {},
   "outputs": [],
   "source": [
    "# find the average bill for each combination using pivot_table\n",
    "orders.pivot_table(index='drink', \n",
    "                   columns='meal', \n",
    "                   values='bill',\n",
    "                    aggfunc = 'mean'\n",
    "                  )"
   ]
  },
  {
   "cell_type": "code",
   "execution_count": null,
   "id": "211f9d5e",
   "metadata": {},
   "outputs": [],
   "source": [
    "# find the average bill for each combination using groupby"
   ]
  },
  {
   "cell_type": "markdown",
   "id": "160bd869",
   "metadata": {},
   "source": [
    "Transposing\n",
    "\n",
    "Swapping rows and columns"
   ]
  },
  {
   "cell_type": "code",
   "execution_count": null,
   "id": "fd99e5fa",
   "metadata": {},
   "outputs": [],
   "source": [
    "orders.groupby(['drink','meal'])['bill'].agg('mean')"
   ]
  },
  {
   "cell_type": "code",
   "execution_count": null,
   "id": "2655cc7f",
   "metadata": {},
   "outputs": [],
   "source": []
  }
 ],
 "metadata": {
  "kernelspec": {
   "display_name": "Python 3 (ipykernel)",
   "language": "python",
   "name": "python3"
  },
  "language_info": {
   "codemirror_mode": {
    "name": "ipython",
    "version": 3
   },
   "file_extension": ".py",
   "mimetype": "text/x-python",
   "name": "python",
   "nbconvert_exporter": "python",
   "pygments_lexer": "ipython3",
   "version": "3.9.13"
  }
 },
 "nbformat": 4,
 "nbformat_minor": 5
}
